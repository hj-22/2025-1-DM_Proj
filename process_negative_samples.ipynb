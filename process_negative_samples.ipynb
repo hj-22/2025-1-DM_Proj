{
  "nbformat": 4,
  "nbformat_minor": 0,
  "metadata": {
    "colab": {
      "provenance": []
    },
    "kernelspec": {
      "name": "python3",
      "display_name": "Python 3"
    },
    "language_info": {
      "name": "python"
    }
  },
  "cells": [
    {
      "cell_type": "code",
      "execution_count": 10,
      "metadata": {
        "id": "iCVN5ofOaNTM"
      },
      "outputs": [],
      "source": [
        "import pandas as pd\n",
        "import numpy as np\n",
        "import os\n",
        "from zipfile import ZipFile"
      ]
    },
    {
      "cell_type": "code",
      "source": [
        "CA_path = \"/content/drive/MyDrive/DM_project/CA_FLIGHTS\"\n",
        "years = list(range(2013,2026))\n",
        "CA_path_list = [os.path.join(CA_path, str(x)) for x in years]\n",
        "CA_path_list"
      ],
      "metadata": {
        "colab": {
          "base_uri": "https://localhost:8080/"
        },
        "id": "CDwKySjZaXGZ",
        "outputId": "cd69003a-1982-41d9-ba85-fb722c1ce6d8"
      },
      "execution_count": 4,
      "outputs": [
        {
          "output_type": "execute_result",
          "data": {
            "text/plain": [
              "['/content/drive/MyDrive/DM_project/CA_FLIGHTS/2013',\n",
              " '/content/drive/MyDrive/DM_project/CA_FLIGHTS/2014',\n",
              " '/content/drive/MyDrive/DM_project/CA_FLIGHTS/2015',\n",
              " '/content/drive/MyDrive/DM_project/CA_FLIGHTS/2016',\n",
              " '/content/drive/MyDrive/DM_project/CA_FLIGHTS/2017',\n",
              " '/content/drive/MyDrive/DM_project/CA_FLIGHTS/2018',\n",
              " '/content/drive/MyDrive/DM_project/CA_FLIGHTS/2019',\n",
              " '/content/drive/MyDrive/DM_project/CA_FLIGHTS/2020',\n",
              " '/content/drive/MyDrive/DM_project/CA_FLIGHTS/2021',\n",
              " '/content/drive/MyDrive/DM_project/CA_FLIGHTS/2022',\n",
              " '/content/drive/MyDrive/DM_project/CA_FLIGHTS/2023',\n",
              " '/content/drive/MyDrive/DM_project/CA_FLIGHTS/2024',\n",
              " '/content/drive/MyDrive/DM_project/CA_FLIGHTS/2025']"
            ]
          },
          "metadata": {},
          "execution_count": 4
        }
      ]
    },
    {
      "cell_type": "code",
      "source": [
        "path_dict = {}\n",
        "for i in range(len(CA_path_list)):\n",
        "  year = years[i]\n",
        "  current_path = CA_path_list[i]\n",
        "  path_for_year = []\n",
        "  for filename in os.listdir(current_path):\n",
        "    filepath = os.path.join(current_path, filename)\n",
        "    path_for_year.append(filepath)\n",
        "  path_dict[year] = path_for_year"
      ],
      "metadata": {
        "id": "xf5Q-Iy_bHbx"
      },
      "execution_count": 29,
      "outputs": []
    },
    {
      "cell_type": "code",
      "source": [
        "cnts = {}\n",
        "for year in path_dict.keys():\n",
        "  cnt_for_year = {}\n",
        "  for path in path_dict[year]:\n",
        "    zip_file = ZipFile(path)\n",
        "    for f in zip_file.infolist():\n",
        "      temp = pd.read_csv(zip_file.open(f))\n",
        "    year = temp.loc[0,\"YEAR\"].item()\n",
        "    month = temp.loc[0,\"MONTH\"].item()\n",
        "    cnt_for_year[month] = len(temp)\n",
        "  cnts[year] = cnt_for_year"
      ],
      "metadata": {
        "id": "BbE5QG8ccAqp"
      },
      "execution_count": 32,
      "outputs": []
    }
  ]
}