{
 "cells": [
  {
   "cell_type": "code",
   "execution_count": 2,
   "id": "37b40a4d",
   "metadata": {},
   "outputs": [],
   "source": [
    "import pandas as pd\n",
    "import numpy as np"
   ]
  },
  {
   "cell_type": "code",
   "execution_count": 2,
   "id": "b6be1f5c",
   "metadata": {},
   "outputs": [],
   "source": [
    "# # !pip install datatable\n",
    "# import datatable as dt\n",
    "\n",
    "# new_data = dt.fread(\"/content/drive/MyDrive/DM_project/filtered_data.csv\")\n",
    "# new_data = new_data.to_pandas()\n",
    "# new_data = new_data.drop(new_data.columns[0], axis=1)\n",
    "# new_data.head()"
   ]
  },
  {
   "cell_type": "markdown",
   "id": "fdd943d1",
   "metadata": {},
   "source": [
    "### 1차 필터링\n",
    "1. 새가 아닌 동물 제거\n",
    "2. 본토 외의 데이터 제거\n",
    "3. 공항코드가 아닌 곳\n",
    "4. 그 외 사용하지 않는 컬럼 제외."
   ]
  },
  {
   "cell_type": "code",
   "execution_count": null,
   "id": "96e97350",
   "metadata": {},
   "outputs": [],
   "source": [
    "data = pd.read_excel('./data/NWSD.xlsx')\n",
    "data = data[data['SPECIES_ID'].astype(str).str.match(r'\\D')]    # 새만 필터링\n",
    "data['SPECIES'] = data['SPECIES'].astype(str).str.lower()   # 소문자로 통일"
   ]
  },
  {
   "cell_type": "code",
   "execution_count": null,
   "id": "03dfe666",
   "metadata": {},
   "outputs": [],
   "source": [
    "# birds = data[data['SPECIES_ID'].astype(str).str.match(r'\\D')]['SPECIES'].unique()   # 종 코드가 숫자로 시작하는 포유류/파충류 13202건 제외\n",
    "# birds = np.char.lower(birds.astype(str))    # 이름 형식 통일\n",
    "# pd.DataFrame(birds).to_csv(\"birds.csv\", index=False, header=False)"
   ]
  },
  {
   "cell_type": "code",
   "execution_count": null,
   "id": "a7b10c2f",
   "metadata": {},
   "outputs": [],
   "source": [
    "america = ['AK', 'AL', 'AR', 'AS', 'AZ', 'CA', 'CO', 'CT', 'DC', 'DE', 'FL', 'GA', 'GU', 'HI', 'IA', 'ID', 'IL', 'IN', \n",
    "           'KS', 'KY', 'LA', 'MA', 'MD', 'ME', 'MI', 'MN', 'MO', 'MP', 'MS', 'MT', 'NC', 'ND', 'NE', 'NH', 'NJ', 'NM', 'NV', 'NY', \n",
    "           'OH', 'OK', 'OR', 'PA', 'PR', 'RI', 'SC', 'SD', 'TN', 'TX', 'UT', 'VA', 'VI', 'VT', 'WA', 'WI', 'WV', 'WY']\n",
    "canada = ['AB', 'BC', 'MB', 'NB', 'NL', 'NT', 'NS', 'NU', 'ON', 'PE', 'QC', 'SK', 'YT']"
   ]
  },
  {
   "cell_type": "code",
   "execution_count": null,
   "id": "4ea0b679",
   "metadata": {},
   "outputs": [
    {
     "data": {
      "text/plain": [
       "[nan, 'FN', 'UM', 'MH']"
      ]
     },
     "execution_count": 28,
     "metadata": {},
     "output_type": "execute_result"
    }
   ],
   "source": [
    "states = data['STATE'].unique()\n",
    "states_to_drop = [state for state in states if state not in america and state not in canada]\n",
    "states_to_drop     # UM: 유나이티드 마셜 제도, MH: 마셜 제도 / FN: Foregin National로 추측됨. 외국"
   ]
  },
  {
   "cell_type": "code",
   "execution_count": null,
   "id": "3594b85f",
   "metadata": {},
   "outputs": [],
   "source": [
    "data = data[~data['STATE'].isin(states_to_drop)]    # 본토가 아닌 것 제외"
   ]
  },
  {
   "cell_type": "code",
   "execution_count": null,
   "id": "3e961998",
   "metadata": {},
   "outputs": [],
   "source": [
    "not_use_ID = ['ZZZZ', 'H2O', 'PVT', 'RIGG']     # unknown, 해상, 개인소유, 시추선..?뭐라고 하지\n",
    "data = data[~data['AIRPORT_ID'].isin(not_use_ID)] "
   ]
  },
  {
   "cell_type": "code",
   "execution_count": null,
   "id": "0c048a8b",
   "metadata": {},
   "outputs": [],
   "source": [
    "cols_to_drop = ['INDEX_NR', 'REG', 'FLT', 'REMAINS_COLLECTED', 'REMAINS_SENT', 'RUNWAY',\n",
    "                'BIRD_BAND_NUMBER', 'COMMENTS', 'REPORTED_NAME', 'REPORTED_TITLE', 'SOURCE', 'PERSON', 'LUPDATE', 'TRANSFER']\n",
    "data = data.drop(columns=cols_to_drop)"
   ]
  },
  {
   "cell_type": "code",
   "execution_count": null,
   "id": "fe03917e",
   "metadata": {},
   "outputs": [
    {
     "name": "stderr",
     "output_type": "stream",
     "text": [
      "C:\\Users\\hj\\AppData\\Local\\Temp\\ipykernel_35276\\1584125482.py:2: DtypeWarning: Columns (7,11,16,84) have mixed types. Specify dtype option on import or set low_memory=False.\n",
      "  data = pd.read_csv('./data/filtered.csv')\n"
     ]
    }
   ],
   "source": [
    "# pd.DataFrame(data).to_csv(\"filtered.csv\", index=False)"
   ]
  },
  {
   "cell_type": "markdown",
   "id": "e051c657",
   "metadata": {},
   "source": [
    "### 2차"
   ]
  },
  {
   "cell_type": "code",
   "execution_count": 284,
   "id": "bb3318b3",
   "metadata": {},
   "outputs": [
    {
     "name": "stderr",
     "output_type": "stream",
     "text": [
      "C:\\Users\\hj\\AppData\\Local\\Temp\\ipykernel_33700\\2717746404.py:1: DtypeWarning: Columns (7,11,16,84) have mixed types. Specify dtype option on import or set low_memory=False.\n",
      "  data = pd.read_csv('./data/filtered.csv')\n"
     ]
    }
   ],
   "source": [
    "data = pd.read_csv('./data/filtered.csv')"
   ]
  },
  {
   "cell_type": "code",
   "execution_count": 35,
   "id": "260fb79e",
   "metadata": {},
   "outputs": [
    {
     "data": {
      "text/plain": [
       "Index(['INCIDENT_DATE', 'INCIDENT_MONTH', 'INCIDENT_YEAR', 'TIME',\n",
       "       'TIME_OF_DAY', 'AIRPORT_ID', 'AIRPORT', 'AIRPORT_LATITUDE',\n",
       "       'AIRPORT_LONGITUDE', 'STATE', 'FAAREGION', 'LOCATION', 'OPID',\n",
       "       'OPERATOR', 'AIRCRAFT', 'AMA', 'AMO', 'EMA', 'EMO', 'AC_CLASS',\n",
       "       'AC_MASS', 'TYPE_ENG', 'NUM_ENGS', 'ENG_1_POS', 'ENG_2_POS',\n",
       "       'ENG_3_POS', 'ENG_4_POS', 'PHASE_OF_FLIGHT', 'HEIGHT', 'SPEED',\n",
       "       'DISTANCE', 'SKY', 'PRECIPITATION', 'AOS', 'COST_REPAIRS', 'COST_OTHER',\n",
       "       'COST_REPAIRS_INFL_ADJ', 'COST_OTHER_INFL_ADJ', 'INGESTED_OTHER',\n",
       "       'INDICATED_DAMAGE', 'DAMAGE_LEVEL', 'STR_RAD', 'DAM_RAD',\n",
       "       'STR_WINDSHLD', 'DAM_WINDSHLD', 'STR_NOSE', 'DAM_NOSE', 'STR_ENG1',\n",
       "       'DAM_ENG1', 'ING_ENG1', 'STR_ENG2', 'DAM_ENG2', 'ING_ENG2', 'STR_ENG3',\n",
       "       'DAM_ENG3', 'ING_ENG3', 'STR_ENG4', 'DAM_ENG4', 'ING_ENG4', 'STR_PROP',\n",
       "       'DAM_PROP', 'STR_WING_ROT', 'DAM_WING_ROT', 'STR_FUSE', 'DAM_FUSE',\n",
       "       'STR_LG', 'DAM_LG', 'STR_TAIL', 'DAM_TAIL', 'STR_LGHTS', 'DAM_LGHTS',\n",
       "       'STR_OTHER', 'DAM_OTHER', 'OTHER_SPECIFY', 'EFFECT', 'EFFECT_OTHER',\n",
       "       'SPECIES_ID', 'SPECIES', 'OUT_OF_RANGE_SPECIES', 'REMARKS', 'WARNED',\n",
       "       'NUM_SEEN', 'NUM_STRUCK', 'SIZE', 'ENROUTE_STATE', 'NR_INJURIES',\n",
       "       'NR_FATALITIES'],\n",
       "      dtype='object')"
      ]
     },
     "execution_count": 35,
     "metadata": {},
     "output_type": "execute_result"
    }
   ],
   "source": [
    "data.columns"
   ]
  },
  {
   "cell_type": "code",
   "execution_count": 285,
   "id": "108c1ffd",
   "metadata": {},
   "outputs": [],
   "source": [
    "data = data[data['AIRCRAFT'] != 'UNKNOWN']    # 기종이 UNKNOWN이 아닌 것"
   ]
  },
  {
   "cell_type": "code",
   "execution_count": 94,
   "id": "e97fd00f",
   "metadata": {},
   "outputs": [
    {
     "data": {
      "text/plain": [
       "177034"
      ]
     },
     "execution_count": 94,
     "metadata": {},
     "output_type": "execute_result"
    }
   ],
   "source": [
    "len(data)"
   ]
  },
  {
   "cell_type": "code",
   "execution_count": 286,
   "id": "0937c88b",
   "metadata": {},
   "outputs": [],
   "source": [
    "# pd.DataFrame(data).to_csv(\"filtered2.csv\", index=False)"
   ]
  },
  {
   "cell_type": "markdown",
   "id": "de26f4cc",
   "metadata": {},
   "source": [
    "##### 비행기 기종, 무게, class, .."
   ]
  },
  {
   "cell_type": "code",
   "execution_count": null,
   "id": "4af60a35",
   "metadata": {},
   "outputs": [
    {
     "data": {
      "text/plain": [
       "array(['CESSNA', 'DORNIER', 'WACO', 'BOEING', 'HELICOPTER', 'LEARJET',\n",
       "       'EMBRAER', 'DASSAULT', 'AIRBUS', 'BRITISH AEROSPACE', 'MILITARY',\n",
       "       'BEECHCRAFT', 'LOCKHEED', 'CANADAIR', 'GULFSTREAM', 'GRUMMAN',\n",
       "       'SWEARINGIN', 'PIPER', 'ROCKWELL', 'LIGHT-SPORT', 'SIKORSKY',\n",
       "       'T-6B', 'H-60', 'DRONE', 'CRJ', 'Unknown', 'GRUMMAN CS2',\n",
       "       'BOMBARDIER', 'BELL', 'DIAMOND', 'CL-600-2C10 / CRJ 700',\n",
       "       'B767-200', 'Embraer 175'], dtype=object)"
      ]
     },
     "execution_count": 59,
     "metadata": {},
     "output_type": "execute_result"
    }
   ],
   "source": [
    "data[data['AC_MASS'].isna()]['AIRCRAFT'].unique()   # MASS가 NA인 기종"
   ]
  },
  {
   "cell_type": "code",
   "execution_count": null,
   "id": "5f9c4571",
   "metadata": {},
   "outputs": [
    {
     "data": {
      "text/plain": [
       "383"
      ]
     },
     "execution_count": 60,
     "metadata": {},
     "output_type": "execute_result"
    }
   ],
   "source": [
    "data['AC_MASS'].isna().sum()    # 383개인데 빼도 될듯?"
   ]
  },
  {
   "cell_type": "code",
   "execution_count": null,
   "id": "8b302b3c",
   "metadata": {},
   "outputs": [
    {
     "data": {
      "text/plain": [
       "AIRCRAFT\n",
       "EXPERIMENTAL    242\n",
       "Name: count, dtype: int64"
      ]
     },
     "execution_count": 80,
     "metadata": {},
     "output_type": "execute_result"
    }
   ],
   "source": [
    "# MASS가 NA가 아닌데 CLASS가 NA인 기종 => 모두 EXPERIMENTAL, MASS는 모두 1이었음\n",
    "data[(~data['AC_MASS'].isna()) & (data['AC_CLASS'].isna())]['AIRCRAFT'].value_counts(dropna=False)\n",
    "# 이것도 빼도 되지 않나?"
   ]
  },
  {
   "cell_type": "code",
   "execution_count": 95,
   "id": "722a3c12",
   "metadata": {},
   "outputs": [
    {
     "data": {
      "text/plain": [
       "176409"
      ]
     },
     "execution_count": 95,
     "metadata": {},
     "output_type": "execute_result"
    }
   ],
   "source": [
    "# MASS와 CLASS가 NA인 데이터를 모두 제거하면 176409개\n",
    "data = data[~(data['AC_CLASS'].isna()) & ~(data['AC_MASS'].isna())]\n",
    "len(data)"
   ]
  },
  {
   "cell_type": "code",
   "execution_count": 141,
   "id": "a77de4d5",
   "metadata": {},
   "outputs": [],
   "source": [
    "# pd.DataFrame(data).to_csv(\"filtered2.csv\", index=False)"
   ]
  },
  {
   "cell_type": "markdown",
   "id": "2ec30291",
   "metadata": {},
   "source": [
    "### 비행기 및 항공사"
   ]
  },
  {
   "cell_type": "code",
   "execution_count": 291,
   "id": "9503a2c2",
   "metadata": {},
   "outputs": [
    {
     "data": {
      "text/plain": [
       "OPERATOR\n",
       "SOUTHWEST AIRLINES        22598\n",
       "BUSINESS                  21024\n",
       "AMERICAN AIRLINES         16355\n",
       "UNITED AIRLINES           11857\n",
       "DELTA AIR LINES           11463\n",
       "                          ...  \n",
       "SPECTRUM AIR                  1\n",
       "TOLAIR SERVICES               1\n",
       "CENTRAL AIRWAYS               1\n",
       "EAST COAST AIRLINES           1\n",
       "WHEELS UP PRIVATE JETS        1\n",
       "Name: count, Length: 604, dtype: int64"
      ]
     },
     "execution_count": 291,
     "metadata": {},
     "output_type": "execute_result"
    }
   ],
   "source": [
    "data['OPERATOR'].value_counts()"
   ]
  },
  {
   "cell_type": "markdown",
   "id": "5ee20956",
   "metadata": {},
   "source": [
    "### 공항 및 날씨"
   ]
  },
  {
   "cell_type": "code",
   "execution_count": 296,
   "id": "2e80114f",
   "metadata": {},
   "outputs": [
    {
     "name": "stderr",
     "output_type": "stream",
     "text": [
      "C:\\Users\\hj\\AppData\\Local\\Temp\\ipykernel_33700\\1798880490.py:1: DtypeWarning: Columns (7,11,16,84) have mixed types. Specify dtype option on import or set low_memory=False.\n",
      "  data = pd.read_csv('./data/filtered2.csv')\n"
     ]
    }
   ],
   "source": [
    "data = pd.read_csv('./data/filtered2.csv')"
   ]
  },
  {
   "cell_type": "code",
   "execution_count": null,
   "id": "57d17c55",
   "metadata": {},
   "outputs": [],
   "source": []
  },
  {
   "cell_type": "code",
   "execution_count": 297,
   "id": "8b1e2e3d",
   "metadata": {},
   "outputs": [
    {
     "data": {
      "text/plain": [
       "2044"
      ]
     },
     "execution_count": 297,
     "metadata": {},
     "output_type": "execute_result"
    }
   ],
   "source": [
    "len(data['AIRPORT_ID'].unique())"
   ]
  },
  {
   "cell_type": "code",
   "execution_count": 298,
   "id": "724157dc",
   "metadata": {},
   "outputs": [],
   "source": [
    "isd = pd.read_csv(\"./data/isd-history.csv\")"
   ]
  },
  {
   "cell_type": "code",
   "execution_count": null,
   "id": "33e838f2",
   "metadata": {},
   "outputs": [],
   "source": []
  },
  {
   "cell_type": "code",
   "execution_count": 161,
   "id": "6f639a3d",
   "metadata": {},
   "outputs": [
    {
     "data": {
      "text/html": [
       "<div>\n",
       "<style scoped>\n",
       "    .dataframe tbody tr th:only-of-type {\n",
       "        vertical-align: middle;\n",
       "    }\n",
       "\n",
       "    .dataframe tbody tr th {\n",
       "        vertical-align: top;\n",
       "    }\n",
       "\n",
       "    .dataframe thead th {\n",
       "        text-align: right;\n",
       "    }\n",
       "</style>\n",
       "<table border=\"1\" class=\"dataframe\">\n",
       "  <thead>\n",
       "    <tr style=\"text-align: right;\">\n",
       "      <th></th>\n",
       "      <th>USAF</th>\n",
       "      <th>WBAN</th>\n",
       "      <th>STATION NAME</th>\n",
       "      <th>CTRY</th>\n",
       "      <th>STATE</th>\n",
       "      <th>ICAO</th>\n",
       "      <th>LAT</th>\n",
       "      <th>LON</th>\n",
       "      <th>ELEV(M)</th>\n",
       "      <th>BEGIN</th>\n",
       "      <th>END</th>\n",
       "    </tr>\n",
       "  </thead>\n",
       "  <tbody>\n",
       "    <tr>\n",
       "      <th>0</th>\n",
       "      <td>007018</td>\n",
       "      <td>99999</td>\n",
       "      <td>WXPOD 7018</td>\n",
       "      <td>NaN</td>\n",
       "      <td>NaN</td>\n",
       "      <td>NaN</td>\n",
       "      <td>0.00</td>\n",
       "      <td>0.000</td>\n",
       "      <td>7018.0</td>\n",
       "      <td>2011-03-09</td>\n",
       "      <td>2013-07-30</td>\n",
       "    </tr>\n",
       "    <tr>\n",
       "      <th>1</th>\n",
       "      <td>007026</td>\n",
       "      <td>99999</td>\n",
       "      <td>WXPOD 7026</td>\n",
       "      <td>AF</td>\n",
       "      <td>NaN</td>\n",
       "      <td>NaN</td>\n",
       "      <td>0.00</td>\n",
       "      <td>0.000</td>\n",
       "      <td>7026.0</td>\n",
       "      <td>2012-07-13</td>\n",
       "      <td>2017-08-22</td>\n",
       "    </tr>\n",
       "    <tr>\n",
       "      <th>2</th>\n",
       "      <td>007070</td>\n",
       "      <td>99999</td>\n",
       "      <td>WXPOD 7070</td>\n",
       "      <td>AF</td>\n",
       "      <td>NaN</td>\n",
       "      <td>NaN</td>\n",
       "      <td>0.00</td>\n",
       "      <td>0.000</td>\n",
       "      <td>7070.0</td>\n",
       "      <td>2014-09-23</td>\n",
       "      <td>2015-09-26</td>\n",
       "    </tr>\n",
       "    <tr>\n",
       "      <th>3</th>\n",
       "      <td>008260</td>\n",
       "      <td>99999</td>\n",
       "      <td>WXPOD8270</td>\n",
       "      <td>NaN</td>\n",
       "      <td>NaN</td>\n",
       "      <td>NaN</td>\n",
       "      <td>0.00</td>\n",
       "      <td>0.000</td>\n",
       "      <td>0.0</td>\n",
       "      <td>2005-01-01</td>\n",
       "      <td>2012-07-31</td>\n",
       "    </tr>\n",
       "    <tr>\n",
       "      <th>4</th>\n",
       "      <td>008268</td>\n",
       "      <td>99999</td>\n",
       "      <td>WXPOD8278</td>\n",
       "      <td>AF</td>\n",
       "      <td>NaN</td>\n",
       "      <td>NaN</td>\n",
       "      <td>32.95</td>\n",
       "      <td>65.567</td>\n",
       "      <td>1156.7</td>\n",
       "      <td>2010-05-19</td>\n",
       "      <td>2012-03-23</td>\n",
       "    </tr>\n",
       "  </tbody>\n",
       "</table>\n",
       "</div>"
      ],
      "text/plain": [
       "     USAF   WBAN STATION NAME CTRY STATE ICAO    LAT     LON  ELEV(M)  \\\n",
       "0  007018  99999   WXPOD 7018  NaN   NaN  NaN   0.00   0.000   7018.0   \n",
       "1  007026  99999   WXPOD 7026   AF   NaN  NaN   0.00   0.000   7026.0   \n",
       "2  007070  99999   WXPOD 7070   AF   NaN  NaN   0.00   0.000   7070.0   \n",
       "3  008260  99999    WXPOD8270  NaN   NaN  NaN   0.00   0.000      0.0   \n",
       "4  008268  99999    WXPOD8278   AF   NaN  NaN  32.95  65.567   1156.7   \n",
       "\n",
       "       BEGIN        END  \n",
       "0 2011-03-09 2013-07-30  \n",
       "1 2012-07-13 2017-08-22  \n",
       "2 2014-09-23 2015-09-26  \n",
       "3 2005-01-01 2012-07-31  \n",
       "4 2010-05-19 2012-03-23  "
      ]
     },
     "execution_count": 161,
     "metadata": {},
     "output_type": "execute_result"
    }
   ],
   "source": [
    "isd.head()"
   ]
  },
  {
   "cell_type": "code",
   "execution_count": 300,
   "id": "26c7962a",
   "metadata": {},
   "outputs": [],
   "source": [
    "# 날씨 df\n",
    "# weather = data[['INCIDENT_DATE', 'INCIDENT_MONTH', 'INCIDENT_YEAR', 'TIME_OF_DAY', 'TIME',\n",
    "#                 'AIRPORT_ID', 'AIRPORT', 'AIRPORT_LATITUDE', 'AIRPORT_LONGITUDE', 'STATE',\n",
    "#                 'SKY', 'PRECIPITATION']]\n",
    "# 여기서 날짜도 바꿔 줌\n",
    "data['INCIDENT_DATE'] = pd.to_datetime(data['INCIDENT_DATE'])"
   ]
  },
  {
   "cell_type": "code",
   "execution_count": 168,
   "id": "960c061f",
   "metadata": {},
   "outputs": [
    {
     "data": {
      "text/html": [
       "<div>\n",
       "<style scoped>\n",
       "    .dataframe tbody tr th:only-of-type {\n",
       "        vertical-align: middle;\n",
       "    }\n",
       "\n",
       "    .dataframe tbody tr th {\n",
       "        vertical-align: top;\n",
       "    }\n",
       "\n",
       "    .dataframe thead th {\n",
       "        text-align: right;\n",
       "    }\n",
       "</style>\n",
       "<table border=\"1\" class=\"dataframe\">\n",
       "  <thead>\n",
       "    <tr style=\"text-align: right;\">\n",
       "      <th></th>\n",
       "      <th>INCIDENT_DATE</th>\n",
       "      <th>INCIDENT_MONTH</th>\n",
       "      <th>INCIDENT_YEAR</th>\n",
       "      <th>TIME_OF_DAY</th>\n",
       "      <th>TIME</th>\n",
       "      <th>AIRPORT_ID</th>\n",
       "      <th>AIRPORT</th>\n",
       "      <th>AIRPORT_LATITUDE</th>\n",
       "      <th>AIRPORT_LONGITUDE</th>\n",
       "      <th>STATE</th>\n",
       "      <th>SKY</th>\n",
       "      <th>PRECIPITATION</th>\n",
       "      <th>USAF</th>\n",
       "      <th>WBAN</th>\n",
       "      <th>BEGIN</th>\n",
       "      <th>END</th>\n",
       "    </tr>\n",
       "  </thead>\n",
       "  <tbody>\n",
       "    <tr>\n",
       "      <th>0</th>\n",
       "      <td>1996-06-22</td>\n",
       "      <td>6</td>\n",
       "      <td>1996</td>\n",
       "      <td>NaN</td>\n",
       "      <td>NaN</td>\n",
       "      <td>KSMF</td>\n",
       "      <td>SACRAMENTO INTL</td>\n",
       "      <td>38.69542</td>\n",
       "      <td>-121.59077</td>\n",
       "      <td>CA</td>\n",
       "      <td>NaN</td>\n",
       "      <td>NaN</td>\n",
       "      <td>724839</td>\n",
       "      <td>93225.0</td>\n",
       "      <td>1973-01-01</td>\n",
       "      <td>2025-04-21</td>\n",
       "    </tr>\n",
       "    <tr>\n",
       "      <th>1</th>\n",
       "      <td>1996-06-22</td>\n",
       "      <td>6</td>\n",
       "      <td>1996</td>\n",
       "      <td>NaN</td>\n",
       "      <td>NaN</td>\n",
       "      <td>KSMF</td>\n",
       "      <td>SACRAMENTO INTL</td>\n",
       "      <td>38.69542</td>\n",
       "      <td>-121.59077</td>\n",
       "      <td>CA</td>\n",
       "      <td>NaN</td>\n",
       "      <td>NaN</td>\n",
       "      <td>724839</td>\n",
       "      <td>99999.0</td>\n",
       "      <td>2000-01-01</td>\n",
       "      <td>2003-12-31</td>\n",
       "    </tr>\n",
       "    <tr>\n",
       "      <th>2</th>\n",
       "      <td>1996-06-26</td>\n",
       "      <td>6</td>\n",
       "      <td>1996</td>\n",
       "      <td>NaN</td>\n",
       "      <td>NaN</td>\n",
       "      <td>KDEN</td>\n",
       "      <td>DENVER INTL AIRPORT</td>\n",
       "      <td>39.85841</td>\n",
       "      <td>-104.66700</td>\n",
       "      <td>CO</td>\n",
       "      <td>NaN</td>\n",
       "      <td>NaN</td>\n",
       "      <td>724670</td>\n",
       "      <td>3017.0</td>\n",
       "      <td>1974-11-13</td>\n",
       "      <td>1994-05-29</td>\n",
       "    </tr>\n",
       "    <tr>\n",
       "      <th>3</th>\n",
       "      <td>1996-06-26</td>\n",
       "      <td>6</td>\n",
       "      <td>1996</td>\n",
       "      <td>NaN</td>\n",
       "      <td>NaN</td>\n",
       "      <td>KDEN</td>\n",
       "      <td>DENVER INTL AIRPORT</td>\n",
       "      <td>39.85841</td>\n",
       "      <td>-104.66700</td>\n",
       "      <td>CO</td>\n",
       "      <td>NaN</td>\n",
       "      <td>NaN</td>\n",
       "      <td>725650</td>\n",
       "      <td>3017.0</td>\n",
       "      <td>1994-07-18</td>\n",
       "      <td>2025-04-21</td>\n",
       "    </tr>\n",
       "    <tr>\n",
       "      <th>4</th>\n",
       "      <td>1996-07-01</td>\n",
       "      <td>7</td>\n",
       "      <td>1996</td>\n",
       "      <td>NaN</td>\n",
       "      <td>NaN</td>\n",
       "      <td>KOMA</td>\n",
       "      <td>EPPLEY AIRFIELD</td>\n",
       "      <td>41.30252</td>\n",
       "      <td>-95.89417</td>\n",
       "      <td>NE</td>\n",
       "      <td>NaN</td>\n",
       "      <td>NaN</td>\n",
       "      <td>725500</td>\n",
       "      <td>14942.0</td>\n",
       "      <td>1974-04-19</td>\n",
       "      <td>2025-04-21</td>\n",
       "    </tr>\n",
       "  </tbody>\n",
       "</table>\n",
       "</div>"
      ],
      "text/plain": [
       "  INCIDENT_DATE  INCIDENT_MONTH  INCIDENT_YEAR TIME_OF_DAY TIME AIRPORT_ID  \\\n",
       "0    1996-06-22               6           1996         NaN  NaN       KSMF   \n",
       "1    1996-06-22               6           1996         NaN  NaN       KSMF   \n",
       "2    1996-06-26               6           1996         NaN  NaN       KDEN   \n",
       "3    1996-06-26               6           1996         NaN  NaN       KDEN   \n",
       "4    1996-07-01               7           1996         NaN  NaN       KOMA   \n",
       "\n",
       "               AIRPORT AIRPORT_LATITUDE  AIRPORT_LONGITUDE STATE  SKY  \\\n",
       "0      SACRAMENTO INTL         38.69542         -121.59077    CA  NaN   \n",
       "1      SACRAMENTO INTL         38.69542         -121.59077    CA  NaN   \n",
       "2  DENVER INTL AIRPORT         39.85841         -104.66700    CO  NaN   \n",
       "3  DENVER INTL AIRPORT         39.85841         -104.66700    CO  NaN   \n",
       "4      EPPLEY AIRFIELD         41.30252          -95.89417    NE  NaN   \n",
       "\n",
       "  PRECIPITATION    USAF     WBAN      BEGIN        END  \n",
       "0           NaN  724839  93225.0 1973-01-01 2025-04-21  \n",
       "1           NaN  724839  99999.0 2000-01-01 2003-12-31  \n",
       "2           NaN  724670   3017.0 1974-11-13 1994-05-29  \n",
       "3           NaN  725650   3017.0 1994-07-18 2025-04-21  \n",
       "4           NaN  725500  14942.0 1974-04-19 2025-04-21  "
      ]
     },
     "execution_count": 168,
     "metadata": {},
     "output_type": "execute_result"
    }
   ],
   "source": [
    "# left join\n",
    "weather = pd.merge(weather, isd[['USAF', 'WBAN', 'ICAO', 'BEGIN', 'END']], how='left', left_on='AIRPORT_ID', right_on='ICAO').drop(columns='ICAO')\n",
    "weather.head()"
   ]
  },
  {
   "cell_type": "code",
   "execution_count": 197,
   "id": "0cd11be1",
   "metadata": {},
   "outputs": [
    {
     "data": {
      "text/html": [
       "<div>\n",
       "<style scoped>\n",
       "    .dataframe tbody tr th:only-of-type {\n",
       "        vertical-align: middle;\n",
       "    }\n",
       "\n",
       "    .dataframe tbody tr th {\n",
       "        vertical-align: top;\n",
       "    }\n",
       "\n",
       "    .dataframe thead th {\n",
       "        text-align: right;\n",
       "    }\n",
       "</style>\n",
       "<table border=\"1\" class=\"dataframe\">\n",
       "  <thead>\n",
       "    <tr style=\"text-align: right;\">\n",
       "      <th></th>\n",
       "      <th>INCIDENT_DATE</th>\n",
       "      <th>INCIDENT_MONTH</th>\n",
       "      <th>INCIDENT_YEAR</th>\n",
       "      <th>TIME_OF_DAY</th>\n",
       "      <th>TIME</th>\n",
       "      <th>AIRPORT_ID</th>\n",
       "      <th>AIRPORT</th>\n",
       "      <th>AIRPORT_LATITUDE</th>\n",
       "      <th>AIRPORT_LONGITUDE</th>\n",
       "      <th>STATE</th>\n",
       "      <th>SKY</th>\n",
       "      <th>PRECIPITATION</th>\n",
       "    </tr>\n",
       "  </thead>\n",
       "  <tbody>\n",
       "    <tr>\n",
       "      <th>46</th>\n",
       "      <td>1991-11-25</td>\n",
       "      <td>11</td>\n",
       "      <td>1991</td>\n",
       "      <td>NaN</td>\n",
       "      <td>NaN</td>\n",
       "      <td>KHUF</td>\n",
       "      <td>TERRE HAUTE INTL ARPT-HULMAN FIELD</td>\n",
       "      <td>39.45146</td>\n",
       "      <td>-87.30756</td>\n",
       "      <td>IN</td>\n",
       "      <td>No Cloud</td>\n",
       "      <td>NaN</td>\n",
       "    </tr>\n",
       "    <tr>\n",
       "      <th>57</th>\n",
       "      <td>1991-05-05</td>\n",
       "      <td>5</td>\n",
       "      <td>1991</td>\n",
       "      <td>Day</td>\n",
       "      <td>NaN</td>\n",
       "      <td>KDAL</td>\n",
       "      <td>DALLAS LOVE FIELD ARPT</td>\n",
       "      <td>32.84711</td>\n",
       "      <td>-96.85177</td>\n",
       "      <td>TX</td>\n",
       "      <td>No Cloud</td>\n",
       "      <td>NaN</td>\n",
       "    </tr>\n",
       "    <tr>\n",
       "      <th>160</th>\n",
       "      <td>1995-05-21</td>\n",
       "      <td>5</td>\n",
       "      <td>1995</td>\n",
       "      <td>NaN</td>\n",
       "      <td>NaN</td>\n",
       "      <td>KONT</td>\n",
       "      <td>ONTARIO INTL ARPT</td>\n",
       "      <td>34.056</td>\n",
       "      <td>-117.60119</td>\n",
       "      <td>CA</td>\n",
       "      <td>NaN</td>\n",
       "      <td>NaN</td>\n",
       "    </tr>\n",
       "    <tr>\n",
       "      <th>161</th>\n",
       "      <td>1995-05-21</td>\n",
       "      <td>5</td>\n",
       "      <td>1995</td>\n",
       "      <td>NaN</td>\n",
       "      <td>NaN</td>\n",
       "      <td>KONT</td>\n",
       "      <td>ONTARIO INTL ARPT</td>\n",
       "      <td>34.056</td>\n",
       "      <td>-117.60119</td>\n",
       "      <td>CA</td>\n",
       "      <td>NaN</td>\n",
       "      <td>NaN</td>\n",
       "    </tr>\n",
       "    <tr>\n",
       "      <th>184</th>\n",
       "      <td>1991-05-10</td>\n",
       "      <td>5</td>\n",
       "      <td>1991</td>\n",
       "      <td>Night</td>\n",
       "      <td>NaN</td>\n",
       "      <td>KONT</td>\n",
       "      <td>ONTARIO INTL ARPT</td>\n",
       "      <td>34.056</td>\n",
       "      <td>-117.60119</td>\n",
       "      <td>CA</td>\n",
       "      <td>No Cloud</td>\n",
       "      <td>NaN</td>\n",
       "    </tr>\n",
       "    <tr>\n",
       "      <th>...</th>\n",
       "      <td>...</td>\n",
       "      <td>...</td>\n",
       "      <td>...</td>\n",
       "      <td>...</td>\n",
       "      <td>...</td>\n",
       "      <td>...</td>\n",
       "      <td>...</td>\n",
       "      <td>...</td>\n",
       "      <td>...</td>\n",
       "      <td>...</td>\n",
       "      <td>...</td>\n",
       "      <td>...</td>\n",
       "    </tr>\n",
       "    <tr>\n",
       "      <th>359377</th>\n",
       "      <td>2002-11-23</td>\n",
       "      <td>11</td>\n",
       "      <td>2002</td>\n",
       "      <td>Night</td>\n",
       "      <td>17:39</td>\n",
       "      <td>KTEB</td>\n",
       "      <td>TETERBORO AIRPORT</td>\n",
       "      <td>40.8501</td>\n",
       "      <td>-74.06084</td>\n",
       "      <td>NJ</td>\n",
       "      <td>No Cloud</td>\n",
       "      <td>NaN</td>\n",
       "    </tr>\n",
       "    <tr>\n",
       "      <th>359493</th>\n",
       "      <td>2024-10-23</td>\n",
       "      <td>10</td>\n",
       "      <td>2024</td>\n",
       "      <td>Day</td>\n",
       "      <td>06:40</td>\n",
       "      <td>PGWT</td>\n",
       "      <td>TINIAN INTL</td>\n",
       "      <td>14.999203</td>\n",
       "      <td>145.61935</td>\n",
       "      <td>MP</td>\n",
       "      <td>Some Cloud</td>\n",
       "      <td>NaN</td>\n",
       "    </tr>\n",
       "    <tr>\n",
       "      <th>362308</th>\n",
       "      <td>2014-10-30</td>\n",
       "      <td>10</td>\n",
       "      <td>2014</td>\n",
       "      <td>Night</td>\n",
       "      <td>21:00</td>\n",
       "      <td>KEWR</td>\n",
       "      <td>NEWARK LIBERTY INTL ARPT</td>\n",
       "      <td>40.6925</td>\n",
       "      <td>-74.16866</td>\n",
       "      <td>NJ</td>\n",
       "      <td>No Cloud</td>\n",
       "      <td>NaN</td>\n",
       "    </tr>\n",
       "    <tr>\n",
       "      <th>362706</th>\n",
       "      <td>2018-10-31</td>\n",
       "      <td>10</td>\n",
       "      <td>2018</td>\n",
       "      <td>Night</td>\n",
       "      <td>03:50</td>\n",
       "      <td>KJFK</td>\n",
       "      <td>JOHN F KENNEDY INTL</td>\n",
       "      <td>40.63975</td>\n",
       "      <td>-73.77893</td>\n",
       "      <td>NY</td>\n",
       "      <td>No Cloud</td>\n",
       "      <td>NaN</td>\n",
       "    </tr>\n",
       "    <tr>\n",
       "      <th>363788</th>\n",
       "      <td>2024-10-18</td>\n",
       "      <td>10</td>\n",
       "      <td>2024</td>\n",
       "      <td>NaN</td>\n",
       "      <td></td>\n",
       "      <td>PGWT</td>\n",
       "      <td>TINIAN INTL</td>\n",
       "      <td>14.999203</td>\n",
       "      <td>145.61935</td>\n",
       "      <td>MP</td>\n",
       "      <td>NaN</td>\n",
       "      <td>NaN</td>\n",
       "    </tr>\n",
       "  </tbody>\n",
       "</table>\n",
       "<p>3297 rows × 12 columns</p>\n",
       "</div>"
      ],
      "text/plain": [
       "       INCIDENT_DATE  INCIDENT_MONTH  INCIDENT_YEAR TIME_OF_DAY   TIME  \\\n",
       "46        1991-11-25              11           1991         NaN    NaN   \n",
       "57        1991-05-05               5           1991         Day    NaN   \n",
       "160       1995-05-21               5           1995         NaN    NaN   \n",
       "161       1995-05-21               5           1995         NaN    NaN   \n",
       "184       1991-05-10               5           1991       Night    NaN   \n",
       "...              ...             ...            ...         ...    ...   \n",
       "359377    2002-11-23              11           2002       Night  17:39   \n",
       "359493    2024-10-23              10           2024         Day  06:40   \n",
       "362308    2014-10-30              10           2014       Night  21:00   \n",
       "362706    2018-10-31              10           2018       Night  03:50   \n",
       "363788    2024-10-18              10           2024         NaN          \n",
       "\n",
       "       AIRPORT_ID                             AIRPORT AIRPORT_LATITUDE  \\\n",
       "46           KHUF  TERRE HAUTE INTL ARPT-HULMAN FIELD         39.45146   \n",
       "57           KDAL              DALLAS LOVE FIELD ARPT         32.84711   \n",
       "160          KONT                   ONTARIO INTL ARPT           34.056   \n",
       "161          KONT                   ONTARIO INTL ARPT           34.056   \n",
       "184          KONT                   ONTARIO INTL ARPT           34.056   \n",
       "...           ...                                 ...              ...   \n",
       "359377       KTEB                   TETERBORO AIRPORT          40.8501   \n",
       "359493       PGWT                         TINIAN INTL        14.999203   \n",
       "362308       KEWR            NEWARK LIBERTY INTL ARPT          40.6925   \n",
       "362706       KJFK                 JOHN F KENNEDY INTL         40.63975   \n",
       "363788       PGWT                         TINIAN INTL        14.999203   \n",
       "\n",
       "        AIRPORT_LONGITUDE STATE         SKY PRECIPITATION  \n",
       "46              -87.30756    IN    No Cloud           NaN  \n",
       "57              -96.85177    TX    No Cloud           NaN  \n",
       "160            -117.60119    CA         NaN           NaN  \n",
       "161            -117.60119    CA         NaN           NaN  \n",
       "184            -117.60119    CA    No Cloud           NaN  \n",
       "...                   ...   ...         ...           ...  \n",
       "359377          -74.06084    NJ    No Cloud           NaN  \n",
       "359493          145.61935    MP  Some Cloud           NaN  \n",
       "362308          -74.16866    NJ    No Cloud           NaN  \n",
       "362706          -73.77893    NY    No Cloud           NaN  \n",
       "363788          145.61935    MP         NaN           NaN  \n",
       "\n",
       "[3297 rows x 12 columns]"
      ]
     },
     "execution_count": 197,
     "metadata": {},
     "output_type": "execute_result"
    }
   ],
   "source": [
    "# INCIDENT_DATE가 BEGIN ~ END 사이에 있는 경우만 남김\n",
    "filtered = weather[(weather['INCIDENT_DATE'] >= weather['BEGIN']) & (weather['INCIDENT_DATE'] <= weather['END'])]\n",
    "\n",
    "# 중복 남았는지 체크\n",
    "filtered.iloc[:,:-4][filtered.iloc[:,:-4].duplicated(keep='first')]    # 3297개"
   ]
  },
  {
   "cell_type": "code",
   "execution_count": null,
   "id": "60534ad4",
   "metadata": {},
   "outputs": [
    {
     "data": {
      "text/html": [
       "<div>\n",
       "<style scoped>\n",
       "    .dataframe tbody tr th:only-of-type {\n",
       "        vertical-align: middle;\n",
       "    }\n",
       "\n",
       "    .dataframe tbody tr th {\n",
       "        vertical-align: top;\n",
       "    }\n",
       "\n",
       "    .dataframe thead th {\n",
       "        text-align: right;\n",
       "    }\n",
       "</style>\n",
       "<table border=\"1\" class=\"dataframe\">\n",
       "  <thead>\n",
       "    <tr style=\"text-align: right;\">\n",
       "      <th></th>\n",
       "      <th>INCIDENT_DATE</th>\n",
       "      <th>INCIDENT_MONTH</th>\n",
       "      <th>INCIDENT_YEAR</th>\n",
       "      <th>TIME_OF_DAY</th>\n",
       "      <th>TIME</th>\n",
       "      <th>AIRPORT_ID</th>\n",
       "      <th>AIRPORT</th>\n",
       "      <th>AIRPORT_LATITUDE</th>\n",
       "      <th>AIRPORT_LONGITUDE</th>\n",
       "      <th>STATE</th>\n",
       "      <th>SKY</th>\n",
       "      <th>PRECIPITATION</th>\n",
       "      <th>USAF</th>\n",
       "      <th>WBAN</th>\n",
       "      <th>BEGIN</th>\n",
       "      <th>END</th>\n",
       "    </tr>\n",
       "  </thead>\n",
       "  <tbody>\n",
       "    <tr>\n",
       "      <th>0</th>\n",
       "      <td>1996-06-22</td>\n",
       "      <td>6</td>\n",
       "      <td>1996</td>\n",
       "      <td>NaN</td>\n",
       "      <td>NaN</td>\n",
       "      <td>KSMF</td>\n",
       "      <td>SACRAMENTO INTL</td>\n",
       "      <td>38.69542</td>\n",
       "      <td>-121.59077</td>\n",
       "      <td>CA</td>\n",
       "      <td>NaN</td>\n",
       "      <td>NaN</td>\n",
       "      <td>724839</td>\n",
       "      <td>93225.0</td>\n",
       "      <td>1973-01-01</td>\n",
       "      <td>2025-04-21</td>\n",
       "    </tr>\n",
       "    <tr>\n",
       "      <th>3</th>\n",
       "      <td>1996-06-26</td>\n",
       "      <td>6</td>\n",
       "      <td>1996</td>\n",
       "      <td>NaN</td>\n",
       "      <td>NaN</td>\n",
       "      <td>KDEN</td>\n",
       "      <td>DENVER INTL AIRPORT</td>\n",
       "      <td>39.85841</td>\n",
       "      <td>-104.66700</td>\n",
       "      <td>CO</td>\n",
       "      <td>NaN</td>\n",
       "      <td>NaN</td>\n",
       "      <td>725650</td>\n",
       "      <td>3017.0</td>\n",
       "      <td>1994-07-18</td>\n",
       "      <td>2025-04-21</td>\n",
       "    </tr>\n",
       "    <tr>\n",
       "      <th>4</th>\n",
       "      <td>1996-07-01</td>\n",
       "      <td>7</td>\n",
       "      <td>1996</td>\n",
       "      <td>NaN</td>\n",
       "      <td>NaN</td>\n",
       "      <td>KOMA</td>\n",
       "      <td>EPPLEY AIRFIELD</td>\n",
       "      <td>41.30252</td>\n",
       "      <td>-95.89417</td>\n",
       "      <td>NE</td>\n",
       "      <td>NaN</td>\n",
       "      <td>NaN</td>\n",
       "      <td>725500</td>\n",
       "      <td>14942.0</td>\n",
       "      <td>1974-04-19</td>\n",
       "      <td>2025-04-21</td>\n",
       "    </tr>\n",
       "    <tr>\n",
       "      <th>7</th>\n",
       "      <td>1996-07-01</td>\n",
       "      <td>7</td>\n",
       "      <td>1996</td>\n",
       "      <td>NaN</td>\n",
       "      <td>NaN</td>\n",
       "      <td>KIAD</td>\n",
       "      <td>WASHINGTON DULLES INTL ARPT</td>\n",
       "      <td>38.94453</td>\n",
       "      <td>-77.45581</td>\n",
       "      <td>DC</td>\n",
       "      <td>NaN</td>\n",
       "      <td>NaN</td>\n",
       "      <td>724030</td>\n",
       "      <td>93738.0</td>\n",
       "      <td>1973-01-01</td>\n",
       "      <td>2025-04-21</td>\n",
       "    </tr>\n",
       "    <tr>\n",
       "      <th>9</th>\n",
       "      <td>1996-07-01</td>\n",
       "      <td>7</td>\n",
       "      <td>1996</td>\n",
       "      <td>NaN</td>\n",
       "      <td>NaN</td>\n",
       "      <td>KLGA</td>\n",
       "      <td>LA GUARDIA ARPT</td>\n",
       "      <td>40.77724</td>\n",
       "      <td>-73.87261</td>\n",
       "      <td>NY</td>\n",
       "      <td>NaN</td>\n",
       "      <td>NaN</td>\n",
       "      <td>725030</td>\n",
       "      <td>14732.0</td>\n",
       "      <td>1973-01-01</td>\n",
       "      <td>2025-04-21</td>\n",
       "    </tr>\n",
       "  </tbody>\n",
       "</table>\n",
       "</div>"
      ],
      "text/plain": [
       "  INCIDENT_DATE  INCIDENT_MONTH  INCIDENT_YEAR TIME_OF_DAY TIME AIRPORT_ID  \\\n",
       "0    1996-06-22               6           1996         NaN  NaN       KSMF   \n",
       "3    1996-06-26               6           1996         NaN  NaN       KDEN   \n",
       "4    1996-07-01               7           1996         NaN  NaN       KOMA   \n",
       "7    1996-07-01               7           1996         NaN  NaN       KIAD   \n",
       "9    1996-07-01               7           1996         NaN  NaN       KLGA   \n",
       "\n",
       "                       AIRPORT AIRPORT_LATITUDE  AIRPORT_LONGITUDE STATE  SKY  \\\n",
       "0              SACRAMENTO INTL         38.69542         -121.59077    CA  NaN   \n",
       "3          DENVER INTL AIRPORT         39.85841         -104.66700    CO  NaN   \n",
       "4              EPPLEY AIRFIELD         41.30252          -95.89417    NE  NaN   \n",
       "7  WASHINGTON DULLES INTL ARPT         38.94453          -77.45581    DC  NaN   \n",
       "9              LA GUARDIA ARPT         40.77724          -73.87261    NY  NaN   \n",
       "\n",
       "  PRECIPITATION    USAF     WBAN      BEGIN        END  \n",
       "0           NaN  724839  93225.0 1973-01-01 2025-04-21  \n",
       "3           NaN  725650   3017.0 1994-07-18 2025-04-21  \n",
       "4           NaN  725500  14942.0 1974-04-19 2025-04-21  \n",
       "7           NaN  724030  93738.0 1973-01-01 2025-04-21  \n",
       "9           NaN  725030  14732.0 1973-01-01 2025-04-21  "
      ]
     },
     "execution_count": 198,
     "metadata": {},
     "output_type": "execute_result"
    }
   ],
   "source": [
    "# 중복 제거\n",
    "filtered = filtered[~filtered.iloc[:,:-4].duplicated(keep='first')]\n",
    "filtered.head()"
   ]
  },
  {
   "cell_type": "code",
   "execution_count": 212,
   "id": "def95f6c",
   "metadata": {},
   "outputs": [
    {
     "data": {
      "text/plain": [
       "'72565003017'"
      ]
     },
     "execution_count": 212,
     "metadata": {},
     "output_type": "execute_result"
    }
   ],
   "source": [
    "### 공항별 USAF+ WBAN 조합 추출\n",
    "filtered.iloc[1,-4] + str(int(filtered.iloc[1,-3])).zfill(5)"
   ]
  },
  {
   "cell_type": "code",
   "execution_count": 221,
   "id": "be129e12",
   "metadata": {},
   "outputs": [
    {
     "data": {
      "text/plain": [
       "'1994to2025'"
      ]
     },
     "execution_count": 221,
     "metadata": {},
     "output_type": "execute_result"
    }
   ],
   "source": [
    "### 공항별 연도 범위 추출\n",
    "str(filtered.iloc[1,-2].year) + 'to' + str(filtered.iloc[1,-1].year)"
   ]
  },
  {
   "cell_type": "code",
   "execution_count": 214,
   "id": "c315be2c",
   "metadata": {},
   "outputs": [],
   "source": [
    "def make_code(USAF, WBAN):\n",
    "    return USAF + str(int(WBAN)).zfill(5)"
   ]
  },
  {
   "cell_type": "code",
   "execution_count": 215,
   "id": "d09c8336",
   "metadata": {},
   "outputs": [
    {
     "data": {
      "text/plain": [
       "'72565003017'"
      ]
     },
     "execution_count": 215,
     "metadata": {},
     "output_type": "execute_result"
    }
   ],
   "source": [
    "make_code(filtered.iloc[1,-4], filtered.iloc[1,-3])"
   ]
  },
  {
   "cell_type": "code",
   "execution_count": 213,
   "id": "0ac59f39",
   "metadata": {},
   "outputs": [],
   "source": [
    "###### 여기서부터는 코랩에 ########\n",
    "filtered.to_csv(\"./data/weather.csv\", index=False)"
   ]
  },
  {
   "cell_type": "code",
   "execution_count": 195,
   "id": "9e1c36bd",
   "metadata": {},
   "outputs": [
    {
     "name": "stdout",
     "output_type": "stream",
     "text": [
      "170401\n"
     ]
    }
   ],
   "source": [
    "print(len(filtered))"
   ]
  },
  {
   "cell_type": "code",
   "execution_count": 146,
   "id": "22f579c3",
   "metadata": {},
   "outputs": [
    {
     "data": {
      "text/plain": [
       "SKY\n",
       "No Cloud      133564\n",
       "Some Cloud     95561\n",
       "NaN            86748\n",
       "Overcast       48299\n",
       "Name: count, dtype: int64"
      ]
     },
     "execution_count": 146,
     "metadata": {},
     "output_type": "execute_result"
    }
   ],
   "source": [
    "weather['SKY'].value_counts(dropna=False)"
   ]
  },
  {
   "cell_type": "code",
   "execution_count": 140,
   "id": "5b7eb1d5",
   "metadata": {},
   "outputs": [
    {
     "data": {
      "text/plain": [
       "<Axes: xlabel='SKY'>"
      ]
     },
     "execution_count": 140,
     "metadata": {},
     "output_type": "execute_result"
    },
    {
     "data": {
      "image/png": "[encoded data removed]",
      "text/plain": [
       "<Figure size 640x480 with 1 Axes>"
      ]
     },
     "metadata": {},
     "output_type": "display_data"
    }
   ],
   "source": [
    "# 강수량이 존재하는 데이터 중에서 구름 양 별로 강수량 카테고리 비율\n",
    "weather_filtered = weather.query('SKY.notnull() & PRECIPITATION.notnull()')\n",
    "grouped = weather_filtered.groupby(['SKY', 'PRECIPITATION']).size().unstack(fill_value=0)\n",
    "grouped.div(grouped.sum(axis=1), axis=0).plot(kind='bar', stacked=True)"
   ]
  },
  {
   "cell_type": "code",
   "execution_count": 148,
   "id": "b1d35f45",
   "metadata": {},
   "outputs": [
    {
     "data": {
      "text/plain": [
       "array(['KDEN*', 'LA28', '3R9', '5B6', '1Q5', '41C', 'KJZP', 'U42', '6K5',\n",
       "       'CYAG', 'KUMP', '5B2', '1V0', '79J', '07FA', 'KANQ', '35ME', 'S31',\n",
       "       'N07', '4IA2', '4M1', 'MN56', '00OI', 'MI32', '42PN', '24LA',\n",
       "       'KLCQ', 'KWAY', '26N', 'NY0', 'X51', 'KHSD', '99Y', '4V0', 'PAEE',\n",
       "       'KUBX', '12N', '34VA', 'KAVQ', 'X59', 'NE41', 'KCVC', '6J0',\n",
       "       'TN98', '7LS4', 'KDXE', 'KLSN', 'KSUZ', 'CO49', '3T3', '7G8',\n",
       "       '2MU1', 'KPMH', 'I18', 'KBWC', '3MI2', '7A5', 'PPDM', 'W00', '1G3',\n",
       "       'KCFO', '50R', '74TX', '52A', 'AK28', 'N66', 'C66', 'P10', 'KMQJ',\n",
       "       '06FA', '1B2', '77MI', 'S78', 'KCOI', '2IS', 'FL59', 'KJVY', '1G0',\n",
       "       'X04', 'K24', 'N30', '4D0', 'H88', '0TN8', 'O41', '7MI3', 'L45',\n",
       "       '2G4', '7LS3', 'W29', 'KMBO', 'W48', 'TX17', '65NJ', 'KLNA',\n",
       "       '9NC1', 'KMBT', '3DW', '6Y8', 'E70', '7W4', 'W24'], dtype=object)"
      ]
     },
     "execution_count": 148,
     "metadata": {},
     "output_type": "execute_result"
    }
   ],
   "source": [
    "# # join안된것들 중에서 sky 정보가 없는 것들\n",
    "no_ID = weather[(weather['USAF'].isna()) & (weather['SKY'].isna())]['AIRPORT_ID'].unique()\n",
    "no_ID"
   ]
  },
  {
   "cell_type": "code",
   "execution_count": 152,
   "id": "fa9cb8bc",
   "metadata": {},
   "outputs": [
    {
     "data": {
      "text/html": [
       "<div>\n",
       "<style scoped>\n",
       "    .dataframe tbody tr th:only-of-type {\n",
       "        vertical-align: middle;\n",
       "    }\n",
       "\n",
       "    .dataframe tbody tr th {\n",
       "        vertical-align: top;\n",
       "    }\n",
       "\n",
       "    .dataframe thead th {\n",
       "        text-align: right;\n",
       "    }\n",
       "</style>\n",
       "<table border=\"1\" class=\"dataframe\">\n",
       "  <thead>\n",
       "    <tr style=\"text-align: right;\">\n",
       "      <th></th>\n",
       "      <th>weather.df</th>\n",
       "    </tr>\n",
       "  </thead>\n",
       "  <tbody>\n",
       "    <tr>\n",
       "      <th>0</th>\n",
       "      <td>KDEN*</td>\n",
       "    </tr>\n",
       "    <tr>\n",
       "      <th>1</th>\n",
       "      <td>LA28</td>\n",
       "    </tr>\n",
       "    <tr>\n",
       "      <th>2</th>\n",
       "      <td>3R9</td>\n",
       "    </tr>\n",
       "    <tr>\n",
       "      <th>3</th>\n",
       "      <td>5B6</td>\n",
       "    </tr>\n",
       "    <tr>\n",
       "      <th>4</th>\n",
       "      <td>1Q5</td>\n",
       "    </tr>\n",
       "    <tr>\n",
       "      <th>...</th>\n",
       "      <td>...</td>\n",
       "    </tr>\n",
       "    <tr>\n",
       "      <th>97</th>\n",
       "      <td>3DW</td>\n",
       "    </tr>\n",
       "    <tr>\n",
       "      <th>98</th>\n",
       "      <td>6Y8</td>\n",
       "    </tr>\n",
       "    <tr>\n",
       "      <th>99</th>\n",
       "      <td>E70</td>\n",
       "    </tr>\n",
       "    <tr>\n",
       "      <th>100</th>\n",
       "      <td>7W4</td>\n",
       "    </tr>\n",
       "    <tr>\n",
       "      <th>101</th>\n",
       "      <td>W24</td>\n",
       "    </tr>\n",
       "  </tbody>\n",
       "</table>\n",
       "<p>102 rows × 1 columns</p>\n",
       "</div>"
      ],
      "text/plain": [
       "    weather.df\n",
       "0        KDEN*\n",
       "1         LA28\n",
       "2          3R9\n",
       "3          5B6\n",
       "4          1Q5\n",
       "..         ...\n",
       "97         3DW\n",
       "98         6Y8\n",
       "99         E70\n",
       "100        7W4\n",
       "101        W24\n",
       "\n",
       "[102 rows x 1 columns]"
      ]
     },
     "execution_count": 152,
     "metadata": {},
     "output_type": "execute_result"
    }
   ],
   "source": [
    "pd.DataFrame(no_ID, columns=['weather.df'])"
   ]
  },
  {
   "cell_type": "code",
   "execution_count": 102,
   "id": "36d8089c",
   "metadata": {},
   "outputs": [
    {
     "data": {
      "text/html": [
       "<div>\n",
       "<style scoped>\n",
       "    .dataframe tbody tr th:only-of-type {\n",
       "        vertical-align: middle;\n",
       "    }\n",
       "\n",
       "    .dataframe tbody tr th {\n",
       "        vertical-align: top;\n",
       "    }\n",
       "\n",
       "    .dataframe thead th {\n",
       "        text-align: right;\n",
       "    }\n",
       "</style>\n",
       "<table border=\"1\" class=\"dataframe\">\n",
       "  <thead>\n",
       "    <tr style=\"text-align: right;\">\n",
       "      <th></th>\n",
       "      <th>USAF</th>\n",
       "      <th>WBAN</th>\n",
       "      <th>STATION NAME</th>\n",
       "      <th>CTRY</th>\n",
       "      <th>STATE</th>\n",
       "      <th>ICAO</th>\n",
       "      <th>LAT</th>\n",
       "      <th>LON</th>\n",
       "      <th>ELEV(M)</th>\n",
       "      <th>BEGIN</th>\n",
       "      <th>END</th>\n",
       "    </tr>\n",
       "  </thead>\n",
       "  <tbody>\n",
       "    <tr>\n",
       "      <th>13192</th>\n",
       "      <td>621010</td>\n",
       "      <td>99999</td>\n",
       "      <td>MOORED BUOY</td>\n",
       "      <td>US</td>\n",
       "      <td>NaN</td>\n",
       "      <td>NaN</td>\n",
       "      <td>50.6</td>\n",
       "      <td>-2.933</td>\n",
       "      <td>-999.0</td>\n",
       "      <td>20080721</td>\n",
       "      <td>20080721</td>\n",
       "    </tr>\n",
       "    <tr>\n",
       "      <th>13194</th>\n",
       "      <td>621110</td>\n",
       "      <td>99999</td>\n",
       "      <td>MOORED BUOY</td>\n",
       "      <td>US</td>\n",
       "      <td>NaN</td>\n",
       "      <td>NaN</td>\n",
       "      <td>58.9</td>\n",
       "      <td>-0.200</td>\n",
       "      <td>-999.0</td>\n",
       "      <td>20041118</td>\n",
       "      <td>20041118</td>\n",
       "    </tr>\n",
       "    <tr>\n",
       "      <th>13195</th>\n",
       "      <td>621130</td>\n",
       "      <td>99999</td>\n",
       "      <td>MOORED BUOY</td>\n",
       "      <td>US</td>\n",
       "      <td>NaN</td>\n",
       "      <td>NaN</td>\n",
       "      <td>58.4</td>\n",
       "      <td>0.300</td>\n",
       "      <td>-999.0</td>\n",
       "      <td>20040726</td>\n",
       "      <td>20040726</td>\n",
       "    </tr>\n",
       "    <tr>\n",
       "      <th>13196</th>\n",
       "      <td>621160</td>\n",
       "      <td>99999</td>\n",
       "      <td>MOORED BUOY</td>\n",
       "      <td>US</td>\n",
       "      <td>NaN</td>\n",
       "      <td>NaN</td>\n",
       "      <td>58.1</td>\n",
       "      <td>1.800</td>\n",
       "      <td>-999.0</td>\n",
       "      <td>20040829</td>\n",
       "      <td>20040829</td>\n",
       "    </tr>\n",
       "    <tr>\n",
       "      <th>13197</th>\n",
       "      <td>621170</td>\n",
       "      <td>99999</td>\n",
       "      <td>MOORED BUOY</td>\n",
       "      <td>US</td>\n",
       "      <td>NaN</td>\n",
       "      <td>NaN</td>\n",
       "      <td>57.9</td>\n",
       "      <td>0.100</td>\n",
       "      <td>-999.0</td>\n",
       "      <td>20040726</td>\n",
       "      <td>20040726</td>\n",
       "    </tr>\n",
       "  </tbody>\n",
       "</table>\n",
       "</div>"
      ],
      "text/plain": [
       "         USAF   WBAN STATION NAME CTRY STATE ICAO   LAT    LON  ELEV(M)  \\\n",
       "13192  621010  99999  MOORED BUOY   US   NaN  NaN  50.6 -2.933   -999.0   \n",
       "13194  621110  99999  MOORED BUOY   US   NaN  NaN  58.9 -0.200   -999.0   \n",
       "13195  621130  99999  MOORED BUOY   US   NaN  NaN  58.4  0.300   -999.0   \n",
       "13196  621160  99999  MOORED BUOY   US   NaN  NaN  58.1  1.800   -999.0   \n",
       "13197  621170  99999  MOORED BUOY   US   NaN  NaN  57.9  0.100   -999.0   \n",
       "\n",
       "          BEGIN       END  \n",
       "13192  20080721  20080721  \n",
       "13194  20041118  20041118  \n",
       "13195  20040726  20040726  \n",
       "13196  20040829  20040829  \n",
       "13197  20040726  20040726  "
      ]
     },
     "execution_count": 102,
     "metadata": {},
     "output_type": "execute_result"
    }
   ],
   "source": [
    "# 미국, 캐나다\n",
    "north_america = isd.query('CTRY == \"US\" or CTRY == \"CA\"')\n",
    "north_america.head()"
   ]
  },
  {
   "cell_type": "code",
   "execution_count": 103,
   "id": "a00f384a",
   "metadata": {},
   "outputs": [],
   "source": [
    "weather = data[['INCIDENT_DATE', 'INCIDENT_MONTH', 'INCIDENT_YEAR', 'TIME_OF_DAY', 'TIME',\n",
    "                'AIRPORT_ID', 'AIRPORT', 'AIRPORT_LATITUDE', 'AIRPORT_LONGITUDE', 'STATE',\n",
    "                'SKY', 'PRECIPITATION']]"
   ]
  },
  {
   "cell_type": "code",
   "execution_count": 110,
   "id": "02511156",
   "metadata": {},
   "outputs": [
    {
     "data": {
      "text/plain": [
       "array([nan, 'ENRS', 'ENJA', ..., 'KY70', 'KDYA', 'KFWB'], dtype=object)"
      ]
     },
     "execution_count": 110,
     "metadata": {},
     "output_type": "execute_result"
    }
   ],
   "source": [
    "weather['AIRPORT_ID'].unique()\n",
    "isd['ICAO'].unique()"
   ]
  },
  {
   "cell_type": "code",
   "execution_count": 114,
   "id": "650ee990",
   "metadata": {},
   "outputs": [
    {
     "data": {
      "text/plain": [
       "False"
      ]
     },
     "execution_count": 114,
     "metadata": {},
     "output_type": "execute_result"
    }
   ],
   "source": [
    "'KDEN' not in isd['ICAO'].unique()"
   ]
  },
  {
   "cell_type": "code",
   "execution_count": null,
   "id": "acd1deb3",
   "metadata": {},
   "outputs": [
    {
     "data": {
      "text/plain": [
       "633"
      ]
     },
     "execution_count": 117,
     "metadata": {},
     "output_type": "execute_result"
    }
   ],
   "source": [
    "## weather의 AIRPORT_ID가 north_america의 ICAO 안에 있는가?\n",
    "## 없는 AIRPORT_ID와 공항명은??\n",
    "## 매칭되게 최대한 수정한 후 left join 하면 됨\n",
    "\n",
    "airportID = set(weather['AIRPORT_ID'])\n",
    "ICAO = set(isd['ICAO'])\n",
    "\n",
    "[id for id in airportID if id not in ICAO]"
   ]
  },
  {
   "cell_type": "code",
   "execution_count": 97,
   "id": "2b68896c",
   "metadata": {},
   "outputs": [
    {
     "data": {
      "text/plain": [
       "SKY\n",
       "No Cloud      64290\n",
       "Some Cloud    46051\n",
       "NaN           42699\n",
       "Overcast      23369\n",
       "Name: count, dtype: int64"
      ]
     },
     "execution_count": 97,
     "metadata": {},
     "output_type": "execute_result"
    }
   ],
   "source": [
    "data['SKY'].value_counts(dropna=False)"
   ]
  },
  {
   "cell_type": "code",
   "execution_count": 98,
   "id": "3fe5b66b",
   "metadata": {},
   "outputs": [
    {
     "data": {
      "text/plain": [
       "PRECIPITATION\n",
       "NaN                165402\n",
       "Rain                 7650\n",
       "Fog                  2441\n",
       "Snow                  533\n",
       "Fog, Rain             318\n",
       "Rain, Snow             28\n",
       "Fog, Snow              17\n",
       "None, Rain              8\n",
       "Fog, Rain, Snow         6\n",
       "None, Snow              5\n",
       "Fog, None               1\n",
       "Name: count, dtype: int64"
      ]
     },
     "execution_count": 98,
     "metadata": {},
     "output_type": "execute_result"
    }
   ],
   "source": [
    "data['PRECIPITATION'].value_counts(dropna=False)"
   ]
  },
  {
   "cell_type": "code",
   "execution_count": null,
   "id": "9552b44b",
   "metadata": {},
   "outputs": [
    {
     "data": {
      "text/plain": [
       "DAMAGE_LEVEL\n",
       "N     142211\n",
       "M       6059\n",
       "M?      5728\n",
       "S       2874\n",
       "D         25\n",
       "Name: count, dtype: int64"
      ]
     },
     "execution_count": 295,
     "metadata": {},
     "output_type": "execute_result"
    }
   ],
   "source": [
    "# time 이 null이 아닌 것 중 타겟 비율\n",
    "time_na_target = data[~data['TIME'].isna()]['DAMAGE_LEVEL'].value_counts()\n",
    "all_data_target = data['DAMAGE_LEVEL'].value_counts()\n",
    "\n",
    "pd.DataFrame()"
   ]
  },
  {
   "cell_type": "code",
   "execution_count": null,
   "id": "8113e809",
   "metadata": {},
   "outputs": [],
   "source": [
    "# time 이 null인 아닌 것 중 타겟 비율\n",
    "data[~data['TIME'].isna()]['DAMAGE_LEVEL'].value_counts()"
   ]
  },
  {
   "cell_type": "markdown",
   "id": "cf1ddfa1",
   "metadata": {},
   "source": [
    "##### 나머지"
   ]
  },
  {
   "cell_type": "code",
   "execution_count": 50,
   "id": "d16a9ce1",
   "metadata": {},
   "outputs": [
    {
     "data": {
      "text/plain": [
       "0"
      ]
     },
     "execution_count": 50,
     "metadata": {},
     "output_type": "execute_result"
    }
   ],
   "source": [
    "# is.na(AIRPORT_LATITUDE) & !(AIRPORT_ID %in% not_use_ID) \n",
    "\n",
    "data['AIRPORT_LATITUDE'].isna().sum()"
   ]
  },
  {
   "cell_type": "code",
   "execution_count": 80,
   "id": "599348a9",
   "metadata": {},
   "outputs": [
    {
     "name": "stdout",
     "output_type": "stream",
     "text": [
      "##### \n",
      "SKY\n",
      "NaN           124449\n",
      "No Cloud       65014\n",
      "Some Cloud     46775\n",
      "Overcast       23734\n",
      "Name: count, dtype: int64\n"
     ]
    }
   ],
   "source": [
    "print('##### ')\n",
    "print(data['SKY'].value_counts(dropna=False))"
   ]
  },
  {
   "cell_type": "code",
   "execution_count": 52,
   "id": "3e77b5c0",
   "metadata": {},
   "outputs": [
    {
     "data": {
      "text/plain": [
       "<Axes: >"
      ]
     },
     "execution_count": 52,
     "metadata": {},
     "output_type": "execute_result"
    },
    {
     "data": {
      "image/png": "[encoded data removed]",
      "text/plain": [
       "<Figure size 640x480 with 1 Axes>"
      ]
     },
     "metadata": {},
     "output_type": "display_data"
    }
   ],
   "source": [
    "data['INCIDENT_YEAR'].hist()"
   ]
  },
  {
   "cell_type": "markdown",
   "id": "3c642dca",
   "metadata": {},
   "source": [
    "### Y 관련"
   ]
  },
  {
   "cell_type": "code",
   "execution_count": 18,
   "id": "2b529bee",
   "metadata": {},
   "outputs": [
    {
     "data": {
      "text/plain": [
       "INDICATED_DAMAGE\n",
       "0    162346\n",
       "1     14688\n",
       "Name: count, dtype: int64"
      ]
     },
     "execution_count": 18,
     "metadata": {},
     "output_type": "execute_result"
    }
   ],
   "source": [
    "data['INDICATED_DAMAGE'].value_counts(dropna=False)"
   ]
  },
  {
   "cell_type": "code",
   "execution_count": 17,
   "id": "dade6955",
   "metadata": {},
   "outputs": [
    {
     "data": {
      "text/plain": [
       "DAMAGE_LEVEL\n",
       "N      142211\n",
       "NaN     20137\n",
       "M        6059\n",
       "M?       5728\n",
       "S        2874\n",
       "D          25\n",
       "Name: count, dtype: int64"
      ]
     },
     "execution_count": 17,
     "metadata": {},
     "output_type": "execute_result"
    }
   ],
   "source": [
    "data['DAMAGE_LEVEL'].value_counts(dropna=False)"
   ]
  },
  {
   "cell_type": "code",
   "execution_count": null,
   "id": "04920ca7",
   "metadata": {},
   "outputs": [
    {
     "data": {
      "text/plain": [
       "0         0\n",
       "1         0\n",
       "2         0\n",
       "3         0\n",
       "4         1\n",
       "         ..\n",
       "176404    0\n",
       "176405    0\n",
       "176406    0\n",
       "176407    0\n",
       "176408    0\n",
       "Name: DAMAGE_sum, Length: 176409, dtype: int64"
      ]
     },
     "execution_count": 227,
     "metadata": {},
     "output_type": "execute_result"
    }
   ],
   "source": [
    "## DAM 계열 합계\n",
    "damage_cols = data.filter(like='DAM_').columns\n",
    "data['DAMAGE_sum'] = data[damage_cols].sum(axis=1)"
   ]
  },
  {
   "cell_type": "code",
   "execution_count": 250,
   "id": "1432944e",
   "metadata": {},
   "outputs": [
    {
     "data": {
      "text/html": [
       "<div>\n",
       "<style scoped>\n",
       "    .dataframe tbody tr th:only-of-type {\n",
       "        vertical-align: middle;\n",
       "    }\n",
       "\n",
       "    .dataframe tbody tr th {\n",
       "        vertical-align: top;\n",
       "    }\n",
       "\n",
       "    .dataframe thead th {\n",
       "        text-align: right;\n",
       "    }\n",
       "</style>\n",
       "<table border=\"1\" class=\"dataframe\">\n",
       "  <thead>\n",
       "    <tr style=\"text-align: right;\">\n",
       "      <th>DAMAGE_LEVEL</th>\n",
       "      <th>D</th>\n",
       "      <th>M</th>\n",
       "      <th>M?</th>\n",
       "      <th>N</th>\n",
       "      <th>S</th>\n",
       "    </tr>\n",
       "    <tr>\n",
       "      <th>DAMAGE_sum</th>\n",
       "      <th></th>\n",
       "      <th></th>\n",
       "      <th></th>\n",
       "      <th></th>\n",
       "      <th></th>\n",
       "    </tr>\n",
       "  </thead>\n",
       "  <tbody>\n",
       "    <tr>\n",
       "      <th>0</th>\n",
       "      <td>0</td>\n",
       "      <td>0</td>\n",
       "      <td>0</td>\n",
       "      <td>141827</td>\n",
       "      <td>0</td>\n",
       "    </tr>\n",
       "    <tr>\n",
       "      <th>1</th>\n",
       "      <td>2</td>\n",
       "      <td>5427</td>\n",
       "      <td>5006</td>\n",
       "      <td>1</td>\n",
       "      <td>2249</td>\n",
       "    </tr>\n",
       "    <tr>\n",
       "      <th>2</th>\n",
       "      <td>3</td>\n",
       "      <td>504</td>\n",
       "      <td>537</td>\n",
       "      <td>0</td>\n",
       "      <td>372</td>\n",
       "    </tr>\n",
       "    <tr>\n",
       "      <th>3</th>\n",
       "      <td>2</td>\n",
       "      <td>77</td>\n",
       "      <td>105</td>\n",
       "      <td>0</td>\n",
       "      <td>145</td>\n",
       "    </tr>\n",
       "    <tr>\n",
       "      <th>4</th>\n",
       "      <td>3</td>\n",
       "      <td>9</td>\n",
       "      <td>26</td>\n",
       "      <td>0</td>\n",
       "      <td>51</td>\n",
       "    </tr>\n",
       "    <tr>\n",
       "      <th>5</th>\n",
       "      <td>0</td>\n",
       "      <td>1</td>\n",
       "      <td>5</td>\n",
       "      <td>0</td>\n",
       "      <td>21</td>\n",
       "    </tr>\n",
       "    <tr>\n",
       "      <th>6</th>\n",
       "      <td>2</td>\n",
       "      <td>1</td>\n",
       "      <td>3</td>\n",
       "      <td>0</td>\n",
       "      <td>14</td>\n",
       "    </tr>\n",
       "    <tr>\n",
       "      <th>7</th>\n",
       "      <td>2</td>\n",
       "      <td>0</td>\n",
       "      <td>0</td>\n",
       "      <td>0</td>\n",
       "      <td>3</td>\n",
       "    </tr>\n",
       "    <tr>\n",
       "      <th>8</th>\n",
       "      <td>0</td>\n",
       "      <td>0</td>\n",
       "      <td>0</td>\n",
       "      <td>0</td>\n",
       "      <td>3</td>\n",
       "    </tr>\n",
       "    <tr>\n",
       "      <th>9</th>\n",
       "      <td>2</td>\n",
       "      <td>0</td>\n",
       "      <td>0</td>\n",
       "      <td>0</td>\n",
       "      <td>0</td>\n",
       "    </tr>\n",
       "    <tr>\n",
       "      <th>10</th>\n",
       "      <td>2</td>\n",
       "      <td>0</td>\n",
       "      <td>0</td>\n",
       "      <td>0</td>\n",
       "      <td>0</td>\n",
       "    </tr>\n",
       "    <tr>\n",
       "      <th>11</th>\n",
       "      <td>2</td>\n",
       "      <td>0</td>\n",
       "      <td>0</td>\n",
       "      <td>0</td>\n",
       "      <td>0</td>\n",
       "    </tr>\n",
       "  </tbody>\n",
       "</table>\n",
       "</div>"
      ],
      "text/plain": [
       "DAMAGE_LEVEL  D     M    M?       N     S\n",
       "DAMAGE_sum                               \n",
       "0             0     0     0  141827     0\n",
       "1             2  5427  5006       1  2249\n",
       "2             3   504   537       0   372\n",
       "3             2    77   105       0   145\n",
       "4             3     9    26       0    51\n",
       "5             0     1     5       0    21\n",
       "6             2     1     3       0    14\n",
       "7             2     0     0       0     3\n",
       "8             0     0     0       0     3\n",
       "9             2     0     0       0     0\n",
       "10            2     0     0       0     0\n",
       "11            2     0     0       0     0"
      ]
     },
     "execution_count": 250,
     "metadata": {},
     "output_type": "execute_result"
    }
   ],
   "source": [
    "data.groupby(['DAMAGE_sum', 'DAMAGE_LEVEL']).size().unstack(fill_value=0)"
   ]
  },
  {
   "cell_type": "code",
   "execution_count": 262,
   "id": "6ea896b3",
   "metadata": {},
   "outputs": [
    {
     "data": {
      "text/plain": [
       "<Axes: xlabel='DAMAGE_sum'>"
      ]
     },
     "execution_count": 262,
     "metadata": {},
     "output_type": "execute_result"
    },
    {
     "data": {
      "image/png": "[encoded data removed]",
      "text/plain": [
       "<Figure size 640x480 with 1 Axes>"
      ]
     },
     "metadata": {},
     "output_type": "display_data"
    }
   ],
   "source": [
    "damage_grouped = data.groupby(['DAMAGE_sum', 'DAMAGE_LEVEL']).size().unstack(fill_value=0)\n",
    "damage_grouped.div(damage_grouped.sum(axis=1), axis=0).plot(kind='bar', stacked=True)"
   ]
  },
  {
   "cell_type": "code",
   "execution_count": 249,
   "id": "76d66690",
   "metadata": {},
   "outputs": [
    {
     "name": "stdout",
     "output_type": "stream",
     "text": [
      "Final NTSB report (ERA19FA170) indicates bird remains were found inside and outside wreckage. Assume bird strike but this may be revised pending issue of final report. 4.9 nautical miles from APF. From NTSB preliminary report: The airplane came to rest in a residential area about 5 miles northeast of APF. It was fragmented as a result of tree and ground impacts immediately adjacent to a house. Feathers and a dead bird were found in separate areas among the wreckage. Parts associated with the airplane including two small window pieces, the headrest from a rear seat, and three inflatable life vests were found several hundred feet from the main wreckage. The feathers, bird, and specimen samples from some of the outlying airplane debris, as well as from several areas of the airplane interior were retained for testing at The Feather Identification Lab, Smithsonian Institution, Washington, DC. owner/operator =  COLLIER AVIATION LLCUPDATE: FINAL NTSB REPORT:  While on approach to the destination airport in visual meteorological conditions, the airplane deviatedunannounced from its intended flight path, descended, and impacted the ground. Postaccidentexamination of the airframe, flight controls, engines, engine systems, and propellers revealed noevidence of preimpact failure or malfunction. Remains of a 3.8-pound Black Vulture was found in thewreckage. A rear seat headrest and two inflatable lift vests located about 440 ft from the main wreckagewere found to contain either DNA and/or microscopic feathers from a Black Vulture. Because the BlackVulture was located among the wreckage and because the airplane's flight path deviation wasunannounced, it is likely that the Black Vulture directly impacted and then penetrated the windshield infront of the pilot's position, which incapacitated him, resulting in an uncontrolled descent. The airplanewas certificated in accordance with Civil Air Regulation 3, which specified no minimum standard forwindow or windshield structure strength, or bird penetration. Probable Cause and FindingsThe National Transportation Safety Board determines the probable cause(s) of this accident to be:Incapacitation of the pilot due to a birdstrike through the windshield in front of the pilot'sposition, while on approach to land.\n",
      "NTSB DEN03TA079A/C - FORMER MILITARY MCDONNELL DOUGLAS A-4-N SKYHAWK. A/C WAS DESTROYED WHEN IT IMPACTED THE GREAT SALT LAKE FOLLOWING A LOSS OF ENGINE POWER AFTER INGESTING A BIRD NEAR SALT LAKE CITY, UT. THE SOLE OCCUPANT ON THE A/C WAS FATALLY INJURED. \n"
     ]
    }
   ],
   "source": [
    "for text in data[(data['DAMAGE_sum'] == 1) & (data['DAMAGE_LEVEL']=='D')]['REMARKS']:\n",
    "    print(text)"
   ]
  },
  {
   "cell_type": "code",
   "execution_count": 273,
   "id": "644cba17",
   "metadata": {},
   "outputs": [
    {
     "data": {
      "text/plain": [
       "<Axes: xlabel='DAMAGE_LEVEL', ylabel='COST_REPAIRS'>"
      ]
     },
     "execution_count": 273,
     "metadata": {},
     "output_type": "execute_result"
    },
    {
     "data": {
      "image/png": "[encoded data removed]",
      "text/plain": [
       "<Figure size 640x480 with 1 Axes>"
      ]
     },
     "metadata": {},
     "output_type": "display_data"
    }
   ],
   "source": [
    "import seaborn as sns\n",
    "\n",
    "sns.boxplot(x='DAMAGE_LEVEL', y='COST_REPAIRS', data=data[~data['COST_REPAIRS'].isna()])"
   ]
  },
  {
   "cell_type": "code",
   "execution_count": 283,
   "id": "a4cd89e0",
   "metadata": {},
   "outputs": [
    {
     "data": {
      "text/plain": [
       "DAMAGE_sum\n",
       "0    20001\n",
       "1        1\n",
       "Name: count, dtype: int64"
      ]
     },
     "execution_count": 283,
     "metadata": {},
     "output_type": "execute_result"
    }
   ],
   "source": [
    "data[data['DAMAGE_LEVEL'].isna()]['DAMAGE_sum'].value_counts()\n",
    "# 모두 데미지 0이고 1개만 1"
   ]
  },
  {
   "cell_type": "code",
   "execution_count": null,
   "id": "2929635a",
   "metadata": {},
   "outputs": [
    {
     "data": {
      "text/html": [
       "<div>\n",
       "<style scoped>\n",
       "    .dataframe tbody tr th:only-of-type {\n",
       "        vertical-align: middle;\n",
       "    }\n",
       "\n",
       "    .dataframe tbody tr th {\n",
       "        vertical-align: top;\n",
       "    }\n",
       "\n",
       "    .dataframe thead th {\n",
       "        text-align: right;\n",
       "    }\n",
       "</style>\n",
       "<table border=\"1\" class=\"dataframe\">\n",
       "  <thead>\n",
       "    <tr style=\"text-align: right;\">\n",
       "      <th></th>\n",
       "      <th>EFFECT</th>\n",
       "      <th>EFFECT_OTHER</th>\n",
       "      <th>AOS</th>\n",
       "      <th>COST_REPAIRS</th>\n",
       "      <th>COST_OTHER</th>\n",
       "      <th>COST_REPAIRS_INFL_ADJ</th>\n",
       "      <th>COST_OTHER_INFL_ADJ</th>\n",
       "      <th>NR_INJURIES</th>\n",
       "      <th>NR_FATALITIES</th>\n",
       "    </tr>\n",
       "  </thead>\n",
       "  <tbody>\n",
       "    <tr>\n",
       "      <th>171100</th>\n",
       "      <td>Precautionary Landing</td>\n",
       "      <td>NaN</td>\n",
       "      <td>28.0</td>\n",
       "      <td>600.0</td>\n",
       "      <td>500.0</td>\n",
       "      <td>600.0</td>\n",
       "      <td>500.0</td>\n",
       "      <td>NaN</td>\n",
       "      <td>NaN</td>\n",
       "    </tr>\n",
       "  </tbody>\n",
       "</table>\n",
       "</div>"
      ],
      "text/plain": [
       "                       EFFECT EFFECT_OTHER   AOS  COST_REPAIRS  COST_OTHER  \\\n",
       "171100  Precautionary Landing          NaN  28.0         600.0       500.0   \n",
       "\n",
       "        COST_REPAIRS_INFL_ADJ  COST_OTHER_INFL_ADJ  NR_INJURIES  NR_FATALITIES  \n",
       "171100                  600.0                500.0          NaN            NaN  "
      ]
     },
     "execution_count": 280,
     "metadata": {},
     "output_type": "execute_result"
    }
   ],
   "source": [
    "# pd.set_option('display.max_colwidth', None)\n",
    "data[(data['DAMAGE_LEVEL'].isna()) & (data['DAMAGE_sum'] == 1)][[\"EFFECT\", \"EFFECT_OTHER\", \"AOS\",\n",
    "                \"COST_REPAIRS\",\"COST_OTHER\",\"COST_REPAIRS_INFL_ADJ\",\"COST_OTHER_INFL_ADJ\",\n",
    "                \"NR_INJURIES\",\"NR_FATALITIES\"]]\n",
    "# => N으로 해도 될 것 같음."
   ]
  },
  {
   "cell_type": "code",
   "execution_count": 40,
   "id": "5c320845",
   "metadata": {},
   "outputs": [
    {
     "data": {
      "text/plain": [
       "DAM_OTHER\n",
       "0    175457\n",
       "1      1577\n",
       "Name: count, dtype: int64"
      ]
     },
     "execution_count": 40,
     "metadata": {},
     "output_type": "execute_result"
    }
   ],
   "source": [
    "data['DAM_OTHER'].value_counts()"
   ]
  },
  {
   "cell_type": "code",
   "execution_count": null,
   "id": "9311bcd2",
   "metadata": {},
   "outputs": [],
   "source": [
    "### DAMAGE_LEVEL 결측치는 모두 N으로 채우면 될 것 같음."
   ]
  },
  {
   "cell_type": "code",
   "execution_count": null,
   "id": "e9c1470a",
   "metadata": {},
   "outputs": [],
   "source": [
    "## response 관련 변수들\n",
    "\n",
    "# parts = ['RAD', 'WINDSHLD', 'NOSE', 'ENG1', 'ENG2', 'ENG3', 'ENG4', 'PROP', 'WING_ROT', 'FUSE', 'LG', 'TAIL', 'LGHTS', 'OTHER']\n",
    "# types = ['STR', 'DAM']\n",
    "# from itertools import product\n",
    "# [f\"{t}_{p}\" for p, t in product(parts, types)]\n",
    "\n",
    "response_var = ['DAMAGE_LEVEL',\n",
    " 'STR_RAD',\n",
    " 'DAM_RAD',\n",
    " 'STR_WINDSHLD',\n",
    " 'DAM_WINDSHLD',\n",
    " 'STR_NOSE',\n",
    " 'DAM_NOSE',\n",
    " 'STR_ENG1',\n",
    " 'DAM_ENG1',\n",
    " 'ING_ENG1',\n",
    " 'STR_ENG2',\n",
    " 'DAM_ENG2',\n",
    " 'ING_ENG2',\n",
    " 'STR_ENG3',\n",
    " 'DAM_ENG3',\n",
    " 'ING_ENG3',\n",
    " 'STR_ENG4',\n",
    " 'DAM_ENG4',\n",
    " 'ING_ENG4',\n",
    " 'INGESTED_OTHER',\n",
    " 'STR_PROP',\n",
    " 'DAM_PROP',\n",
    " 'STR_WING_ROT',\n",
    " 'DAM_WING_ROT',\n",
    " 'STR_FUSE',\n",
    " 'DAM_FUSE',\n",
    " 'STR_LG',\n",
    " 'DAM_LG',\n",
    " 'STR_TAIL',\n",
    " 'DAM_TAIL',\n",
    " 'STR_LGHTS',\n",
    " 'DAM_LGHTS',\n",
    " 'STR_OTHER',\n",
    " 'DAM_OTHER',\n",
    " 'OTHER_SPECIFY',\n",
    " 'NR_INJURIES',\n",
    " 'NR_FATALITIES',\n",
    " 'INDICATED_DAMAGE']"
   ]
  },
  {
   "cell_type": "code",
   "execution_count": 13,
   "id": "9e6a645a",
   "metadata": {},
   "outputs": [
    {
     "data": {
      "text/plain": [
       "EFFECT\n",
       "NaN                                              165649\n",
       "Precautionary Landing                              6566\n",
       "Aborted Take-off                                   2748\n",
       "Other                                              1268\n",
       "Other, Precautionary Landing                        336\n",
       "Engine Shutdown, Precautionary Landing              201\n",
       "Engine Shutdown                                     181\n",
       "Engine Shutdown, Other, Precautionary Landing        36\n",
       "Aborted Take-off, Engine Shutdown                    30\n",
       "Aborted Take-off, Other                              10\n",
       "Engine Shutdown, Other                                9\n",
       "Name: count, dtype: int64"
      ]
     },
     "execution_count": 13,
     "metadata": {},
     "output_type": "execute_result"
    }
   ],
   "source": [
    "data['EFFECT'].value_counts(dropna=False)"
   ]
  }
 ],
 "metadata": {
  "kernelspec": {
   "display_name": "base",
   "language": "python",
   "name": "python3"
  },
  "language_info": {
   "codemirror_mode": {
    "name": "ipython",
    "version": 3
   },
   "file_extension": ".py",
   "mimetype": "text/x-python",
   "name": "python",
   "nbconvert_exporter": "python",
   "pygments_lexer": "ipython3",
   "version": "3.12.4"
  }
 },
 "nbformat": 4,
 "nbformat_minor": 5
}
