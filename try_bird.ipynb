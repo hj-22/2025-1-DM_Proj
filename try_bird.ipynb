{
 "cells": [
  {
   "cell_type": "code",
   "execution_count": 2,
   "id": "bbbc91d5",
   "metadata": {},
   "outputs": [],
   "source": [
    "import pandas as pd"
   ]
  },
  {
   "cell_type": "markdown",
   "id": "99335842",
   "metadata": {},
   "source": [
    "### 새 관련"
   ]
  },
  {
   "cell_type": "code",
   "execution_count": null,
   "id": "cb49b856",
   "metadata": {},
   "outputs": [
    {
     "ename": "KeyboardInterrupt",
     "evalue": "",
     "output_type": "error",
     "traceback": [
      "\u001b[1;31m---------------------------------------------------------------------------\u001b[0m",
      "\u001b[1;31mMemoryError\u001b[0m                               Traceback (most recent call last)",
      "Cell \u001b[1;32mIn[13], line 5\u001b[0m\n\u001b[0;32m      4\u001b[0m \u001b[38;5;28;01mwith\u001b[39;00m gzip\u001b[38;5;241m.\u001b[39mopen(\u001b[38;5;124m'\u001b[39m\u001b[38;5;124m./data/ebd_sampling_relMar-2025/ebd_sampling_relMar-2025.txt.gz\u001b[39m\u001b[38;5;124m'\u001b[39m,\u001b[38;5;124m'\u001b[39m\u001b[38;5;124mrb\u001b[39m\u001b[38;5;124m'\u001b[39m) \u001b[38;5;28;01mas\u001b[39;00m f:\n\u001b[1;32m----> 5\u001b[0m     ebd \u001b[38;5;241m=\u001b[39m f\u001b[38;5;241m.\u001b[39mreadlines()\n\u001b[0;32m      7\u001b[0m ebd \u001b[38;5;241m=\u001b[39m [x\u001b[38;5;241m.\u001b[39mdecode() \u001b[38;5;28;01mfor\u001b[39;00m x \u001b[38;5;129;01min\u001b[39;00m ebd]\n",
      "\u001b[1;31mMemoryError\u001b[0m: ",
      "\nDuring handling of the above exception, another exception occurred:\n",
      "\u001b[1;31mKeyboardInterrupt\u001b[0m                         Traceback (most recent call last)",
      "Cell \u001b[1;32mIn[13], line 4\u001b[0m\n\u001b[0;32m      1\u001b[0m \u001b[38;5;28;01mimport\u001b[39;00m \u001b[38;5;21;01mgzip\u001b[39;00m\n\u001b[0;32m      2\u001b[0m \u001b[38;5;28;01mimport\u001b[39;00m \u001b[38;5;21;01msys\u001b[39;00m\n\u001b[1;32m----> 4\u001b[0m \u001b[38;5;28;01mwith\u001b[39;00m gzip\u001b[38;5;241m.\u001b[39mopen(\u001b[38;5;124m'\u001b[39m\u001b[38;5;124m./data/ebd_sampling_relMar-2025/ebd_sampling_relMar-2025.txt.gz\u001b[39m\u001b[38;5;124m'\u001b[39m,\u001b[38;5;124m'\u001b[39m\u001b[38;5;124mrb\u001b[39m\u001b[38;5;124m'\u001b[39m) \u001b[38;5;28;01mas\u001b[39;00m f:\n\u001b[0;32m      5\u001b[0m     ebd \u001b[38;5;241m=\u001b[39m f\u001b[38;5;241m.\u001b[39mreadlines()\n\u001b[0;32m      7\u001b[0m ebd \u001b[38;5;241m=\u001b[39m [x\u001b[38;5;241m.\u001b[39mdecode() \u001b[38;5;28;01mfor\u001b[39;00m x \u001b[38;5;129;01min\u001b[39;00m ebd]\n",
      "File \u001b[1;32mc:\\Users\\hj\\anaconda3\\Lib\\gzip.py:362\u001b[0m, in \u001b[0;36mGzipFile.close\u001b[1;34m(self)\u001b[0m\n\u001b[0;32m    360\u001b[0m         write32u(fileobj, \u001b[38;5;28mself\u001b[39m\u001b[38;5;241m.\u001b[39msize \u001b[38;5;241m&\u001b[39m \u001b[38;5;241m0xffffffff\u001b[39m)\n\u001b[0;32m    361\u001b[0m     \u001b[38;5;28;01melif\u001b[39;00m \u001b[38;5;28mself\u001b[39m\u001b[38;5;241m.\u001b[39mmode \u001b[38;5;241m==\u001b[39m READ:\n\u001b[1;32m--> 362\u001b[0m         \u001b[38;5;28mself\u001b[39m\u001b[38;5;241m.\u001b[39m_buffer\u001b[38;5;241m.\u001b[39mclose()\n\u001b[0;32m    363\u001b[0m \u001b[38;5;28;01mfinally\u001b[39;00m:\n\u001b[0;32m    364\u001b[0m     \u001b[38;5;28mself\u001b[39m\u001b[38;5;241m.\u001b[39mfileobj \u001b[38;5;241m=\u001b[39m \u001b[38;5;28;01mNone\u001b[39;00m\n",
      "File \u001b[1;32mc:\\Users\\hj\\anaconda3\\Lib\\_compression.py:59\u001b[0m, in \u001b[0;36mDecompressReader.close\u001b[1;34m(self)\u001b[0m\n\u001b[0;32m     55\u001b[0m     \u001b[38;5;66;03m# Exception class to catch from decompressor signifying invalid\u001b[39;00m\n\u001b[0;32m     56\u001b[0m     \u001b[38;5;66;03m# trailing data to ignore\u001b[39;00m\n\u001b[0;32m     57\u001b[0m     \u001b[38;5;28mself\u001b[39m\u001b[38;5;241m.\u001b[39m_trailing_error \u001b[38;5;241m=\u001b[39m trailing_error\n\u001b[1;32m---> 59\u001b[0m \u001b[38;5;28;01mdef\u001b[39;00m \u001b[38;5;21mclose\u001b[39m(\u001b[38;5;28mself\u001b[39m):\n\u001b[0;32m     60\u001b[0m     \u001b[38;5;28mself\u001b[39m\u001b[38;5;241m.\u001b[39m_decompressor \u001b[38;5;241m=\u001b[39m \u001b[38;5;28;01mNone\u001b[39;00m\n\u001b[0;32m     61\u001b[0m     \u001b[38;5;28;01mreturn\u001b[39;00m \u001b[38;5;28msuper\u001b[39m()\u001b[38;5;241m.\u001b[39mclose()\n",
      "\u001b[1;31mKeyboardInterrupt\u001b[0m: "
     ]
    },
    {
     "ename": "",
     "evalue": "",
     "output_type": "error",
     "traceback": [
      "\u001b[1;31mFailed to interrupt the Kernel. \n",
      "\u001b[1;31mUnable to start Kernel 'base (Python 3.12.4)' due to a timeout waiting for the ports to get used. \n",
      "\u001b[1;31mView Jupyter <a href='command:jupyter.viewOutput'>log</a> for further details."
     ]
    }
   ],
   "source": [
    "import gzip\n",
    "import sys\n",
    "\n",
    "with gzip.open('./data/ebd_sampling_relMar-2025/ebd_sampling_relMar-2025.txt.gz','rb') as f:\n",
    "    ebd = f.readlines()\n",
    "\n",
    "ebd = [x.decode() for x in ebd]"
   ]
  },
  {
   "cell_type": "code",
   "execution_count": 8,
   "id": "694f9fc8",
   "metadata": {},
   "outputs": [
    {
     "name": "stderr",
     "output_type": "stream",
     "text": [
      "C:\\Users\\hj\\AppData\\Local\\Temp\\ipykernel_3048\\3472567942.py:2: DtypeWarning: Columns (7,11,14,82) have mixed types. Specify dtype option on import or set low_memory=False.\n",
      "  data = pd.read_csv(\"./data/filtered2.csv\")\n"
     ]
    }
   ],
   "source": [
    "ebird_data = pd.read_csv(\"./data/ebird_runs.csv\")\n",
    "data = pd.read_csv(\"./data/filtered2.csv\")"
   ]
  },
  {
   "cell_type": "code",
   "execution_count": 5,
   "id": "0918238d",
   "metadata": {},
   "outputs": [],
   "source": [
    "# 새 이름 lower case로 통일\n",
    "ebird_data['common_name'] = ebird_data['common_name'].str.lower()"
   ]
  },
  {
   "cell_type": "code",
   "execution_count": 6,
   "id": "6c578e42",
   "metadata": {},
   "outputs": [
    {
     "data": {
      "text/plain": [
       "Index(['Unnamed: 0', 'species_code', 'scientific_name', 'common_name',\n",
       "       'is_resident', 'breeding_quality', 'breeding_start', 'breeding_end',\n",
       "       'nonbreeding_quality', 'nonbreeding_start', 'nonbreeding_end',\n",
       "       'postbreeding_migration_quality', 'postbreeding_migration_start',\n",
       "       'postbreeding_migration_end', 'prebreeding_migration_quality',\n",
       "       'prebreeding_migration_start', 'prebreeding_migration_end',\n",
       "       'resident_quality', 'resident_start', 'resident_end', 'has_trends',\n",
       "       'trends_season', 'trends_region', 'trends_start_year',\n",
       "       'trends_end_year', 'trends_start_date', 'trends_end_date', 'rsquared',\n",
       "       'beta0'],\n",
       "      dtype='object')"
      ]
     },
     "execution_count": 6,
     "metadata": {},
     "output_type": "execute_result"
    }
   ],
   "source": [
    "ebird_data.columns"
   ]
  },
  {
   "cell_type": "code",
   "execution_count": 9,
   "id": "aa93b21c",
   "metadata": {},
   "outputs": [],
   "source": [
    "birds = data[['SPECIES_ID', 'SPECIES', 'NUM_SEEN', 'NUM_STRUCK']]\n",
    "birds = pd.merge(birds, ebird_data[['common_name', 'is_resident']], how='left', left_on='SPECIES', right_on='common_name').drop(columns='common_name')\n",
    "# birds.to_csv(\"./data/birds.csv\")"
   ]
  },
  {
   "cell_type": "code",
   "execution_count": null,
   "id": "ae761cf8",
   "metadata": {},
   "outputs": [
    {
     "data": {
      "text/plain": [
       "array(['unknown bird - medium', 'unknown bird - small',\n",
       "       'unknown bird - large', 'blackbirds', 'gulls',\n",
       "       'raptors: hawks, eagles, vultures, kites, osprey, falcons, caracaras',\n",
       "       'hawks', 'sparrows', 'ducks', 'rails', 'geese', 'herons',\n",
       "       'swallows', 'doves', 'hawaiian duck', 'egrets', 'wrens', 'crows',\n",
       "       'terns, noddies', 'american barn owl', 'pacific golden-plover',\n",
       "       'new world vultures', 'sandpipers, curlews, phalaropes, allies',\n",
       "       'owls', 'great frigatebird', 'ducks, geese, swans', 'thrushes',\n",
       "       'western cattle egret', 'finches, euphonias', 'munias',\n",
       "       'zebra dove', 'eurasian wigeon', 'pelicans', 'orioles', 'plovers',\n",
       "       'pigeons, doves', 'chestnut munia', 'grackles', 'grebes',\n",
       "       'meadowlarks', 'new world quail', 'swans', 'pigeons',\n",
       "       'woodpeckers', 'falcons, caracaras', 'ibises', 'carrion crow',\n",
       "       'unknown bird', 'parrots', 'perching birds (y)',\n",
       "       'new world wood-warblers', 'gray francolin', 'eagles',\n",
       "       'white tern', 'white-tailed tropicbird', 'wedge-tailed shearwater',\n",
       "       'tyrant (new world) flycatchers', 'red avadavat',\n",
       "       'unknown bird or bat', 'common waxbill', 'gray-headed chickadee',\n",
       "       'whooping crane', 'red-necked phalarope', 'northern house wren',\n",
       "       'red-legged kittiwake', 'eurasian skylark', 'yellow bittern',\n",
       "       'waxbills, mannikins, parrotfinches', 'plovers, lapwings',\n",
       "       'black francolin', 'swifts', 'gull-billed tern',\n",
       "       'indian silverbill', 'japanese white-eye', \"mckay's bunting\",\n",
       "       \"smith's longspur\", 'long-tailed jaeger', 'little tern',\n",
       "       'black drongo', 'ptarmigans', 'eurasian collared dove', 'cuckoos',\n",
       "       'band-rumped storm-petrel', 'hawaiian hawk', 'nightjars',\n",
       "       'northern fulmar', 'herons, egrets, bitterns', 'cormorants',\n",
       "       'shearwaters', 'shorebirds', 'hawaiian goose', 'redpoll',\n",
       "       'quails, pheasants', 'hummingbirds',\n",
       "       'falcons, kestrels, falconets', 'swift, tree-swifts, hummingbirds',\n",
       "       'loggerhead kingbird', 'african silverbill',\n",
       "       'lilac-crowned parrot', 'black noddy', 'white-headed gull complex',\n",
       "       'red-masked parakeet', 'larks', 'great gray owl', 'cranes',\n",
       "       'crows, ravens', 'grouse', 'gyrfalcon', 'kites, eagles, hawks',\n",
       "       'gulls, terns, kittiwakes', 'longspurs, snow buntings',\n",
       "       'white-/golden-crown sparrow complex', 'black-headed gull complex',\n",
       "       'noddies', 'horned puffin', 'brown booby', 'partridges',\n",
       "       'mallard/american black duck complex',\n",
       "       'mallard/mottled duck complex', 'diving duck (aythya)',\n",
       "       'philippine collared dove', 'african collared dove',\n",
       "       'white-rumped sandpiper', \"western/clark's grebe complex\",\n",
       "       'alder/willow flycatcher complex', 'gray heron',\n",
       "       'western marsh harrier', \"snow goose/ross's goose complex\",\n",
       "       'red phalarope', 'yellow-fronted canary', 'kittiwakes',\n",
       "       'mitred parakeet', 'greater prairie chicken',\n",
       "       'sharp-tailed sandpiper', 'black-legged kittiwake', 'vireos',\n",
       "       'red-crowned amazon', 'red-tailed tropicbird', 'java sparrow',\n",
       "       'common gull', 'sooty tern', 'eastern cattle egret', 'thrashers',\n",
       "       'yellow rail', 'western barn owl', 'common snipe',\n",
       "       'whiskered tern', 'turkeys'], dtype=object)"
      ]
     },
     "metadata": {},
     "output_type": "display_data"
    }
   ],
   "source": [
    "birds[birds['is_resident'].isna()]['SPECIES'].unique()"
   ]
  },
  {
   "cell_type": "code",
   "execution_count": null,
   "id": "31b76922",
   "metadata": {},
   "outputs": [
    {
     "data": {
      "text/plain": [
       "SPECIES\n",
       "unknown bird - small     42671\n",
       "unknown bird - medium    27365\n",
       "unknown bird             23787\n",
       "gulls                     6293\n",
       "unknown bird - large      3248\n",
       "                         ...  \n",
       "glossy ibis                  1\n",
       "shearwaters                  1\n",
       "ptarmigans                   1\n",
       "thrashers                    1\n",
       "turkeys                      1\n",
       "Name: count, Length: 81, dtype: int64"
      ]
     },
     "metadata": {},
     "output_type": "display_data"
    }
   ],
   "source": [
    "# unknown, -s로 끝나는 복수형, ','가 포함된 두 종 이상의 군집? \n",
    "data[data['SPECIES'].str.contains(',') | data['SPECIES'].str.contains('complex') | data['SPECIES'].str.endswith('s') | data['SPECIES'].str.startswith('unknown')]['SPECIES'].value_counts()"
   ]
  },
  {
   "cell_type": "code",
   "execution_count": null,
   "id": "baf5b771",
   "metadata": {},
   "outputs": [],
   "source": [
    "filter = data['SPECIES'].str.contains(',') | data['SPECIES'].str.contains('complex') | data['SPECIES'].str.endswith('s') | data['SPECIES'].str.startswith('unknown')"
   ]
  },
  {
   "cell_type": "code",
   "execution_count": null,
   "id": "185f441c",
   "metadata": {},
   "outputs": [
    {
     "data": {
      "text/plain": [
       "SPECIES\n",
       "unknown bird or bat    268\n",
       "Name: count, dtype: int64"
      ]
     },
     "metadata": {},
     "output_type": "display_data"
    }
   ],
   "source": [
    "data[(data['SPECIES'] != 'unknown bird') & (data['SIZE'].isna())]['SPECIES'].value_counts(dropna=False)\n",
    "## 위 경우에 "
   ]
  },
  {
   "cell_type": "code",
   "execution_count": null,
   "id": "0a8efa07",
   "metadata": {},
   "outputs": [
    {
     "data": {
      "text/plain": [
       "SIZE\n",
       "Small     97342\n",
       "Medium    45759\n",
       "NaN       24147\n",
       "Large      9786\n",
       "Name: count, dtype: int64"
      ]
     },
     "metadata": {},
     "output_type": "display_data"
    }
   ],
   "source": [
    "data['SIZE'].value_counts(dropna=False)"
   ]
  }
 ],
 "metadata": {
  "kernelspec": {
   "display_name": "base",
   "language": "python",
   "name": "python3"
  },
  "language_info": {
   "codemirror_mode": {
    "name": "ipython",
    "version": 3
   },
   "file_extension": ".py",
   "mimetype": "text/x-python",
   "name": "python",
   "nbconvert_exporter": "python",
   "pygments_lexer": "ipython3",
   "version": "3.12.4"
  }
 },
 "nbformat": 4,
 "nbformat_minor": 5
}
